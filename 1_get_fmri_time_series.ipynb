{
  "nbformat": 4,
  "nbformat_minor": 0,
  "metadata": {
    "colab": {
      "name": "1.get_fmri_time_series.ipynb",
      "provenance": [],
      "collapsed_sections": [
        "ihgjTHVvKDHH",
        "IGJkDwxLKDHL"
      ],
      "authorship_tag": "ABX9TyNIWqDOWaobUkdEAoPgEP5M",
      "include_colab_link": true
    },
    "kernelspec": {
      "name": "python3",
      "display_name": "Python 3"
    },
    "language_info": {
      "name": "python"
    }
  },
  "cells": [
    {
      "cell_type": "markdown",
      "metadata": {
        "id": "view-in-github",
        "colab_type": "text"
      },
      "source": [
        "<a href=\"https://colab.research.google.com/github/Sruthi-sk/MultiDeepRLNeuroGambling/blob/main/1_get_fmri_time_series.ipynb\" target=\"_parent\"><img src=\"https://colab.research.google.com/assets/colab-badge.svg\" alt=\"Open In Colab\"/></a>"
      ]
    },
    {
      "cell_type": "markdown",
      "metadata": {
        "execution": {},
        "id": "cH70WUs8KDGj"
      },
      "source": [
        "# Load HCP parcellated task data \n",
        "## (version with Behavioural Data)\n",
        "\n",
        "The HCP dataset comprises task-based fMRI from a large sample of human subjects. The NMA-curated dataset includes time series data that has been preprocessed and spatially-downsampled by aggregating within 360 regions of interest.\n",
        "\n",
        "In order to use this dataset, please electronically sign the HCP data use terms at [ConnectomeDB](https://db.humanconnectome.org). Instructions for this are on pp. 24-25 of the [HCP Reference Manual](https://www.humanconnectome.org/storage/app/media/documentation/s1200/HCP_S1200_Release_Reference_Manual.pdf).\n",
        "\n",
        "In this notebook, NMA provides code for downloading the data and doing some basic visualisation and processing."
      ]
    },
    {
      "cell_type": "code",
      "execution_count": null,
      "metadata": {
        "cellView": "form",
        "execution": {},
        "id": "gw7cyryLKDG0"
      },
      "outputs": [],
      "source": [
        "# @title Install dependencies\n",
        "!pip install nilearn --quiet"
      ]
    },
    {
      "cell_type": "code",
      "execution_count": 1,
      "metadata": {
        "id": "8cNHmqJw2oM_"
      },
      "outputs": [],
      "source": [
        "import os\n",
        "import numpy as np\n",
        "import pandas as pd\n",
        "import seaborn as sns\n",
        "import matplotlib.pyplot as plt"
      ]
    },
    {
      "cell_type": "code",
      "execution_count": null,
      "metadata": {
        "cellView": "form",
        "execution": {},
        "id": "80bWJBZrKDG8"
      },
      "outputs": [],
      "source": [
        "#@title Figure settings\n",
        "%matplotlib inline\n",
        "%config InlineBackend.figure_format = 'retina'\n",
        "plt.style.use(\"https://raw.githubusercontent.com/NeuromatchAcademy/course-content/main/nma.mplstyle\")"
      ]
    },
    {
      "cell_type": "code",
      "source": [
        "# The data shared for NMA projects is a subset of the full HCP dataset\n",
        "N_SUBJECTS = 100\n",
        "\n",
        "# The data have already been aggregated into ROIs from the Glasser parcellation\n",
        "N_PARCELS = 360\n",
        "\n",
        "# The acquisition parameters for all tasks were identical\n",
        "TR = 0.72  # Time resolution, in seconds\n",
        "\n",
        "# The parcels are matched across hemispheres with the same order\n",
        "HEMIS = [\"Right\", \"Left\"]\n",
        "\n",
        "# Each experiment was repeated twice in each subject\n",
        "RUNS   = ['LR','RL']\n",
        "N_RUNS = 2\n",
        "\n",
        "# There are 7 tasks. Each has a number of 'conditions'\n",
        "# TIP: look inside the data folders for more fine-graned conditions\n",
        "EXPERIMENTS = {\n",
        "    'GAMBLING'   : {'cond':['loss','win','neut']}\n",
        "}"
      ],
      "metadata": {
        "id": "oxHjdhin4L4T"
      },
      "execution_count": null,
      "outputs": []
    },
    {
      "cell_type": "markdown",
      "metadata": {
        "execution": {},
        "id": "_ipZ1RUsKDG_"
      },
      "source": [
        "> For a detailed description of the tasks have a look pages 45-54 of the [HCP reference manual](https://www.humanconnectome.org/storage/app/media/documentation/s1200/HCP_S1200_Release_Reference_Manual.pdf)."
      ]
    },
    {
      "cell_type": "markdown",
      "metadata": {
        "execution": {},
        "id": "-0PHLFtsKDHA"
      },
      "source": [
        "# Downloading data\n",
        "\n",
        "The task data are shared in different files, but they will unpack into the same directory structure.\n"
      ]
    },
    {
      "cell_type": "code",
      "execution_count": null,
      "metadata": {
        "execution": {},
        "id": "rDyAsyxsKDHB",
        "cellView": "form"
      },
      "outputs": [],
      "source": [
        "# @title Download data file\n",
        "import os, requests\n",
        "\n",
        "fname = \"hcp_task.tgz\"\n",
        "url = \"https://osf.io/2y3fw/download\"\n",
        "\n",
        "if not os.path.isfile(fname):\n",
        "  try:\n",
        "    r = requests.get(url)\n",
        "  except requests.ConnectionError:\n",
        "    print(\"!!! Failed to download data !!!\")\n",
        "  else:\n",
        "    if r.status_code != requests.codes.ok:\n",
        "      print(\"!!! Failed to download data !!!\")\n",
        "    else:\n",
        "      with open(fname, \"wb\") as fid:\n",
        "        fid.write(r.content)"
      ]
    },
    {
      "cell_type": "code",
      "execution_count": null,
      "metadata": {
        "execution": {},
        "id": "f3VwkZDuKDHE"
      },
      "outputs": [],
      "source": [
        "# The download cells will store the data in nested directories starting here:\n",
        "HCP_DIR = \"./hcp_task\"\n",
        "\n",
        "# importing the \"tarfile\" module\n",
        "import tarfile\n",
        "\n",
        "# open file\n",
        "with tarfile.open(fname) as tfile:\n",
        "  # extracting file\n",
        "  tfile.extractall('.')\n",
        "\n",
        "subjects = np.loadtxt(os.path.join(HCP_DIR, 'subjects_list.txt'), dtype='str')"
      ]
    },
    {
      "cell_type": "markdown",
      "metadata": {
        "execution": {},
        "id": "aBE4-sBcKDHG"
      },
      "source": [
        "## Understanding the folder organisation\n",
        "\n",
        "The data folder has the following organisation:\n",
        "\n",
        "- hcp\n",
        "  - regions.npy (information on the brain parcellation)\n",
        "  - subjects_list.txt (list of subject IDs)\n",
        "  - subjects (main data folder)\n",
        "    - [subjectID] (subject-specific subfolder)\n",
        "      - EXPERIMENT (one folder per experiment)\n",
        "        - RUN (one folder per run)\n",
        "          - data.npy (the parcellated time series data)\n",
        "          - EVs (EVs folder)\n",
        "            - [ev1.txt] (one file per condition)\n",
        "            - [ev2.txt]\n",
        "            - Stats.txt (behavioural data [where available] - averaged per run)\n",
        "            - Sync.txt (ignore this file)\n",
        "\n"
      ]
    },
    {
      "cell_type": "markdown",
      "metadata": {
        "execution": {},
        "id": "ihgjTHVvKDHH"
      },
      "source": [
        "## Loading region information\n",
        "\n",
        "Downloading this dataset will create the `regions.npy` file, which contains the region name and network assignment for each parcel.\n",
        "\n",
        "Detailed information about the name used for each region is provided [in the Supplement](https://static-content.springer.com/esm/art%3A10.1038%2Fnature18933/MediaObjects/41586_2016_BFnature18933_MOESM330_ESM.pdf) to [Glasser et al. 2016](https://www.nature.com/articles/nature18933).\n",
        "\n",
        "Information about the network parcellation is provided in [Ji et al, 2019](https://www.ncbi.nlm.nih.gov/pmc/articles/PMC6289683/).\n",
        "\n"
      ]
    },
    {
      "cell_type": "code",
      "execution_count": null,
      "metadata": {
        "execution": {},
        "id": "7aC9DwchKDHI"
      },
      "outputs": [],
      "source": [
        "regions = np.load(f\"{HCP_DIR}/regions.npy\").T\n",
        "region_info = dict(\n",
        "    name=regions[0].tolist(),\n",
        "    network=regions[1],\n",
        "    hemi=['Right']*int(N_PARCELS/2) + ['Left']*int(N_PARCELS/2),\n",
        ")"
      ]
    },
    {
      "cell_type": "code",
      "source": [
        "regions[:,20:30]"
      ],
      "metadata": {
        "colab": {
          "base_uri": "https://localhost:8080/"
        },
        "id": "2TL675jBEQWy",
        "outputId": "32d1e676-0c44-4bd7-babd-6d441d170b5d"
      },
      "execution_count": null,
      "outputs": [
        {
          "output_type": "execute_result",
          "data": {
            "text/plain": [
              "array([['R_LO2', 'R_PIT', 'R_MT', 'R_A1', 'R_PSL', 'R_SFL', 'R_PCV',\n",
              "        'R_STV', 'R_7Pm', 'R_7m'],\n",
              "       ['Visual2', 'Visual2', 'Visual2', 'Auditory', 'Default',\n",
              "        'Default', 'Dorsal-atten', 'Default', 'Frontopariet',\n",
              "        'Posterior-Mu'],\n",
              "       ['1.93288', '1.9352', '2.03289', '2.29365', '1.77188', '1.68062',\n",
              "        '1.85286', '1.83748', '1.8366', '1.91503']], dtype='<U12')"
            ]
          },
          "metadata": {},
          "execution_count": 8
        }
      ]
    },
    {
      "cell_type": "code",
      "source": [
        "first_key = list(region_info)[1]\n",
        "first_val = list(region_info.values())[1]\n",
        "print(first_key,\":\",first_val[-5:])"
      ],
      "metadata": {
        "colab": {
          "base_uri": "https://localhost:8080/"
        },
        "id": "zvq5XFiiU-dm",
        "outputId": "452fe59a-590c-4942-fe7e-d70fd1e96e0c"
      },
      "execution_count": null,
      "outputs": [
        {
          "output_type": "stream",
          "name": "stdout",
          "text": [
            "network : ['Posterior-Mu' 'Frontopariet' 'Cingulo-Oper' 'Cingulo-Oper'\n",
            " 'Cingulo-Oper']\n"
          ]
        }
      ]
    },
    {
      "cell_type": "markdown",
      "metadata": {
        "execution": {},
        "id": "dQRqoVXPKDHJ"
      },
      "source": [
        "# Help functions\n",
        "\n",
        "We provide two helper functions: one for loading the time series from a single suject and a single run, and one for loading an EV file for each task. \n",
        "\n",
        "An EV file (EV:Explanatory Variable) describes the task experiment in terms of stimulus onset, duration, and amplitude. These can be used to model the task time series data."
      ]
    },
    {
      "cell_type": "code",
      "execution_count": null,
      "metadata": {
        "execution": {},
        "id": "jFW4Lj_4KDHJ"
      },
      "outputs": [],
      "source": [
        "def load_single_timeseries(subject, experiment, run, remove_mean=True):\n",
        "  \"\"\"Load timeseries data for a single subject and single run.\n",
        "\n",
        "  Args:\n",
        "    subject (str):      subject ID to load\n",
        "    experiment (str):   Name of experiment\n",
        "    run (int):          (0 or 1)\n",
        "    remove_mean (bool): If True, subtract the parcel-wise mean (typically the mean BOLD signal is not of interest)\n",
        "\n",
        "  Returns\n",
        "    ts (n_parcel x n_timepoint array): Array of BOLD data values\n",
        "\n",
        "  \"\"\"\n",
        "  bold_run  = RUNS[run]\n",
        "  bold_path = f\"{HCP_DIR}/subjects/{subject}/{experiment}/tfMRI_{experiment}_{bold_run}\"\n",
        "  bold_file = \"data.npy\"\n",
        "  ts = np.load(f\"{bold_path}/{bold_file}\")\n",
        "  if remove_mean:\n",
        "    ts -= ts.mean(axis=1, keepdims=True)\n",
        "  return ts\n"
      ]
    },
    {
      "cell_type": "code",
      "source": [
        "def load_df_evs_frames(subject, experiment, run):\n",
        "  \"\"\"Load EVs (explanatory variables) data for one task experiment.\n",
        "  takes from reward, loss and neutral trials\n",
        "\n",
        "  Args:\n",
        "    subject (str): subject ID to load\n",
        "    experiment (str) : Name of experiment\n",
        "    run (int): 0 or 1\n",
        "\n",
        "  Returns\n",
        "    evs (list of lists): A list of frames associated with each condition\n",
        "\n",
        "  \"\"\"\n",
        "  events_df = pd.DataFrame()\n",
        "\n",
        "  task_key = f'tfMRI_{experiment}_{RUNS[run]}'\n",
        "  for cond in EXPERIMENTS[experiment]['cond']:\n",
        "    #print(cond)\n",
        "    frames_list = []\n",
        "    ev_file  = f\"{HCP_DIR}/subjects/{subject}/{experiment}/{task_key}/EVs/{cond}_event.txt\"\n",
        "    #print(ev_file)\n",
        "    ev_array = np.loadtxt(ev_file, ndmin=2, unpack=True)\n",
        "    ev       = dict(zip([\"onset\", \"duration\", \"amplitude\"], ev_array))\n",
        "    #print(ev)\n",
        "    # Determine when trial starts, rounded down\n",
        "    start = np.floor(ev[\"onset\"] / TR).astype(int)\n",
        "    # Use trial duration to determine how many frames to include for trial\n",
        "    duration = np.ceil(ev[\"duration\"] / TR).astype(int)\n",
        "    #print(\"Sample start,duration : \",start,duration)\n",
        "    # Take the range of frames that correspond to this specific trial\n",
        "    frames = [s + np.arange(0, d) for s, d in zip(start, duration)]\n",
        "    #frames_list.append(frames)\n",
        "    for fr in frames:\n",
        "      st = fr[0]\n",
        "      events_df=events_df.append({'condition':cond,'Timepoints':fr,'start':st}, ignore_index=True)\n",
        "\n",
        "  return events_df"
      ],
      "metadata": {
        "id": "dVqx9tQA4vd6"
      },
      "execution_count": null,
      "outputs": []
    },
    {
      "cell_type": "markdown",
      "metadata": {
        "execution": {},
        "id": "IGJkDwxLKDHL"
      },
      "source": [
        "# Example run\n",
        "\n",
        "Let's load the timeseries data for the GAMBLING experiment from a single subject and a single run"
      ]
    },
    {
      "cell_type": "code",
      "source": [
        "my_exp = 'GAMBLING'\n",
        "my_subj = subjects[1]\n",
        "my_run = 1\n",
        "\n",
        "data = load_single_timeseries(subject=my_subj,\n",
        "                              experiment=my_exp,\n",
        "                              run=my_run,\n",
        "                              remove_mean=True)\n",
        "print(data.shape)"
      ],
      "metadata": {
        "colab": {
          "base_uri": "https://localhost:8080/"
        },
        "id": "tRXAlpqD444f",
        "outputId": "1de6a246-e027-4120-80dd-5aba13661f38"
      },
      "execution_count": null,
      "outputs": [
        {
          "output_type": "stream",
          "name": "stdout",
          "text": [
            "(360, 253)\n"
          ]
        }
      ]
    },
    {
      "cell_type": "code",
      "source": [
        "print(data.shape[1]*TR, \" seconds\")"
      ],
      "metadata": {
        "colab": {
          "base_uri": "https://localhost:8080/"
        },
        "id": "W5IpbpxB5ICY",
        "outputId": "8ec4397b-2add-4620-fba2-f6520a966bde"
      },
      "execution_count": null,
      "outputs": [
        {
          "output_type": "stream",
          "name": "stdout",
          "text": [
            "182.16  seconds\n"
          ]
        }
      ]
    },
    {
      "cell_type": "markdown",
      "source": [
        "As you can see the time series data contains 253 time points in 360 regions of interest (ROIs).\n",
        "\n",
        "np.ceil(28 / TR).astype(int) # 28 second took 39 samples. #3.5 secs took 5 samples\n"
      ],
      "metadata": {
        "id": "_q5-yuHj5Udu"
      }
    },
    {
      "cell_type": "code",
      "source": [
        "evs = load_df_evs_frames(subject=my_subj, experiment=my_exp, run=my_run)\n",
        "evs_sorted = evs.sort_values('start')\n",
        "evs_sorted.drop(columns=['start'],inplace=True)\n",
        "evs_sorted.reset_index(inplace=True,drop=True)"
      ],
      "metadata": {
        "colab": {
          "base_uri": "https://localhost:8080/"
        },
        "id": "YaqgqXNU5Je_",
        "outputId": "5b465710-1daa-4856-e1b2-a274a9570e61"
      },
      "execution_count": null,
      "outputs": [
        {
          "output_type": "stream",
          "name": "stdout",
          "text": [
            "loss\n",
            "Sample start,duration :  [ 21  77  82  87  97 102 107 133 138 143 153 163 168 203 213] [5 5 5 5 5 5 5 5 5 5 5 5 5 5 5]\n",
            "win\n",
            "Sample start,duration :  [ 11  16  26  31  36  46  72 193 198 208 219 224 229] [5 5 5 5 5 5 5 5 5 5 5 5 5]\n",
            "neut\n",
            "Sample start,duration :  [ 41  92 148 158] [5 5 5 5]\n"
          ]
        }
      ]
    },
    {
      "cell_type": "code",
      "source": [
        "time_fmri_data = data.transpose()\n",
        "print(time_fmri_data.shape)\n",
        "evs_sorted.iloc[5]['Timepoints']"
      ],
      "metadata": {
        "colab": {
          "base_uri": "https://localhost:8080/"
        },
        "id": "u3k_5y_F50IR",
        "outputId": "88f3d66c-ff38-41ca-a865-681730daea4d"
      },
      "execution_count": null,
      "outputs": [
        {
          "output_type": "stream",
          "name": "stdout",
          "text": [
            "(253, 360)\n"
          ]
        },
        {
          "output_type": "execute_result",
          "data": {
            "text/plain": [
              "array([36, 37, 38, 39, 40])"
            ]
          },
          "metadata": {},
          "execution_count": 15
        }
      ]
    },
    {
      "cell_type": "code",
      "source": [
        "evs_with_fmri = evs_sorted.copy()\n",
        "empty_fmri = [np.zeros(360*5)]*evs_sorted.shape[0]\n",
        "empty_fmri = [np.zeros(360*5)]*evs_sorted.shape[0]\n",
        "evs_with_fmri['fmri']=empty_fmri"
      ],
      "metadata": {
        "id": "LR3vAnSN5528"
      },
      "execution_count": null,
      "outputs": []
    },
    {
      "cell_type": "code",
      "source": [
        "# Create mega array of (No of subjects=1 , Condition , Features (5*360) )\n",
        "no_of_events = evs_sorted.shape[0]\n",
        "for i in range(no_of_events): #no_of_events\n",
        "  frame= evs_sorted.iloc[i]['Timepoints']\n",
        "  fmri_frame = time_fmri_data[frame,:]\n",
        "  fmri_frame_flat=np.ravel(fmri_frame)\n",
        "  evs_with_fmri.loc[i]['fmri']=fmri_frame_flat"
      ],
      "metadata": {
        "id": "DLiyv-vT6C01"
      },
      "execution_count": null,
      "outputs": []
    },
    {
      "cell_type": "code",
      "source": [
        "evs_with_fmri.drop(columns='Timepoints',inplace=True)"
      ],
      "metadata": {
        "id": "H9YjD49X6FKf"
      },
      "execution_count": null,
      "outputs": []
    },
    {
      "cell_type": "code",
      "source": [
        "evs_with_fmri"
      ],
      "metadata": {
        "colab": {
          "base_uri": "https://localhost:8080/",
          "height": 654
        },
        "id": "ph6uLOC96F0_",
        "outputId": "d8962129-77b3-49d2-d8f7-51e746d30104"
      },
      "execution_count": null,
      "outputs": [
        {
          "output_type": "execute_result",
          "data": {
            "text/plain": [
              "   condition                                               fmri\n",
              "0        win  [-70.0626028521965, 17.179175551278604, 92.596...\n",
              "1        win  [-202.47391434957535, -14.862366903489601, -15...\n",
              "2       loss  [-68.27319415024249, -41.45556437470805, -18.9...\n",
              "3        win  [28.0382771708355, 29.212108836640255, 79.1204...\n",
              "4        win  [-39.5773015448176, -8.759275312208047, -25.84...\n",
              "5        win  [-79.7329646146245, -54.77425783687795, -36.78...\n",
              "6       neut  [-28.07082483837803, -84.38374848243802, -23.0...\n",
              "7        win  [-27.201017867681003, -42.815723194609745, 13....\n",
              "8        win  [-21.730672112440516, -65.746014621418, 29.223...\n",
              "9       loss  [48.0615998906178, -12.149052244772975, 102.37...\n",
              "10      loss  [-23.39449388419962, -44.81006941171472, -34.5...\n",
              "11      loss  [39.069764176472745, -18.327608988194697, -22....\n",
              "12      neut  [47.45420283296153, -15.251411414181348, -8.27...\n",
              "13      loss  [-59.78888491620455, -29.865720624708047, -65....\n",
              "14      loss  [-48.73438850975617, -55.5862438566146, -80.61...\n",
              "15      loss  [-21.827580739942277, 30.735893273318652, -22....\n",
              "16      loss  [49.17338155258585, 22.364773824305303, -16.53...\n",
              "17      loss  [-30.190928996771618, -71.65886926779967, -78....\n",
              "18      loss  [45.121186954824225, 47.12627413269365, -54.97...\n",
              "19      neut  [66.63065601255948, 67.34654037447035, -63.566...\n",
              "20      loss  [18.23218749087937, 36.081904786477025, -74.22...\n",
              "21      neut  [38.988278287615685, 1.9986785323653748, -56.8...\n",
              "22      loss  [-21.598966465997364, -60.14632814937795, 1.60...\n",
              "23      loss  [89.06318323718551, 82.4343539024303, 63.39182...\n",
              "24       win  [-46.38225707213678, -31.33841542322807, -83.4...\n",
              "25       win  [-52.50902903052338, 7.736638544700327, -35.68...\n",
              "26      loss  [-20.468272746771618, -8.251449962701372, -83....\n",
              "27       win  [53.16807932696611, 42.19004623384535, 8.64338...\n",
              "28      loss  [82.74277705171153, 91.19489049782533, -16.998...\n",
              "29       win  [1.1135953291886835, 31.460708240423628, -71.1...\n",
              "30       win  [-48.60858132563044, 64.27455743861537, -9.800...\n",
              "31       win  [7.421958277886006, 76.25127413269365, -36.411..."
            ],
            "text/html": [
              "\n",
              "  <div id=\"df-2900d930-d7fb-4b5c-a2dc-1bf9a679b445\">\n",
              "    <div class=\"colab-df-container\">\n",
              "      <div>\n",
              "<style scoped>\n",
              "    .dataframe tbody tr th:only-of-type {\n",
              "        vertical-align: middle;\n",
              "    }\n",
              "\n",
              "    .dataframe tbody tr th {\n",
              "        vertical-align: top;\n",
              "    }\n",
              "\n",
              "    .dataframe thead th {\n",
              "        text-align: right;\n",
              "    }\n",
              "</style>\n",
              "<table border=\"1\" class=\"dataframe\">\n",
              "  <thead>\n",
              "    <tr style=\"text-align: right;\">\n",
              "      <th></th>\n",
              "      <th>condition</th>\n",
              "      <th>fmri</th>\n",
              "    </tr>\n",
              "  </thead>\n",
              "  <tbody>\n",
              "    <tr>\n",
              "      <th>0</th>\n",
              "      <td>win</td>\n",
              "      <td>[-70.0626028521965, 17.179175551278604, 92.596...</td>\n",
              "    </tr>\n",
              "    <tr>\n",
              "      <th>1</th>\n",
              "      <td>win</td>\n",
              "      <td>[-202.47391434957535, -14.862366903489601, -15...</td>\n",
              "    </tr>\n",
              "    <tr>\n",
              "      <th>2</th>\n",
              "      <td>loss</td>\n",
              "      <td>[-68.27319415024249, -41.45556437470805, -18.9...</td>\n",
              "    </tr>\n",
              "    <tr>\n",
              "      <th>3</th>\n",
              "      <td>win</td>\n",
              "      <td>[28.0382771708355, 29.212108836640255, 79.1204...</td>\n",
              "    </tr>\n",
              "    <tr>\n",
              "      <th>4</th>\n",
              "      <td>win</td>\n",
              "      <td>[-39.5773015448176, -8.759275312208047, -25.84...</td>\n",
              "    </tr>\n",
              "    <tr>\n",
              "      <th>5</th>\n",
              "      <td>win</td>\n",
              "      <td>[-79.7329646146245, -54.77425783687795, -36.78...</td>\n",
              "    </tr>\n",
              "    <tr>\n",
              "      <th>6</th>\n",
              "      <td>neut</td>\n",
              "      <td>[-28.07082483837803, -84.38374848243802, -23.0...</td>\n",
              "    </tr>\n",
              "    <tr>\n",
              "      <th>7</th>\n",
              "      <td>win</td>\n",
              "      <td>[-27.201017867681003, -42.815723194609745, 13....</td>\n",
              "    </tr>\n",
              "    <tr>\n",
              "      <th>8</th>\n",
              "      <td>win</td>\n",
              "      <td>[-21.730672112440516, -65.746014621418, 29.223...</td>\n",
              "    </tr>\n",
              "    <tr>\n",
              "      <th>9</th>\n",
              "      <td>loss</td>\n",
              "      <td>[48.0615998906178, -12.149052244772975, 102.37...</td>\n",
              "    </tr>\n",
              "    <tr>\n",
              "      <th>10</th>\n",
              "      <td>loss</td>\n",
              "      <td>[-23.39449388419962, -44.81006941171472, -34.5...</td>\n",
              "    </tr>\n",
              "    <tr>\n",
              "      <th>11</th>\n",
              "      <td>loss</td>\n",
              "      <td>[39.069764176472745, -18.327608988194697, -22....</td>\n",
              "    </tr>\n",
              "    <tr>\n",
              "      <th>12</th>\n",
              "      <td>neut</td>\n",
              "      <td>[47.45420283296153, -15.251411414181348, -8.27...</td>\n",
              "    </tr>\n",
              "    <tr>\n",
              "      <th>13</th>\n",
              "      <td>loss</td>\n",
              "      <td>[-59.78888491620455, -29.865720624708047, -65....</td>\n",
              "    </tr>\n",
              "    <tr>\n",
              "      <th>14</th>\n",
              "      <td>loss</td>\n",
              "      <td>[-48.73438850975617, -55.5862438566146, -80.61...</td>\n",
              "    </tr>\n",
              "    <tr>\n",
              "      <th>15</th>\n",
              "      <td>loss</td>\n",
              "      <td>[-21.827580739942277, 30.735893273318652, -22....</td>\n",
              "    </tr>\n",
              "    <tr>\n",
              "      <th>16</th>\n",
              "      <td>loss</td>\n",
              "      <td>[49.17338155258585, 22.364773824305303, -16.53...</td>\n",
              "    </tr>\n",
              "    <tr>\n",
              "      <th>17</th>\n",
              "      <td>loss</td>\n",
              "      <td>[-30.190928996771618, -71.65886926779967, -78....</td>\n",
              "    </tr>\n",
              "    <tr>\n",
              "      <th>18</th>\n",
              "      <td>loss</td>\n",
              "      <td>[45.121186954824225, 47.12627413269365, -54.97...</td>\n",
              "    </tr>\n",
              "    <tr>\n",
              "      <th>19</th>\n",
              "      <td>neut</td>\n",
              "      <td>[66.63065601255948, 67.34654037447035, -63.566...</td>\n",
              "    </tr>\n",
              "    <tr>\n",
              "      <th>20</th>\n",
              "      <td>loss</td>\n",
              "      <td>[18.23218749087937, 36.081904786477025, -74.22...</td>\n",
              "    </tr>\n",
              "    <tr>\n",
              "      <th>21</th>\n",
              "      <td>neut</td>\n",
              "      <td>[38.988278287615685, 1.9986785323653748, -56.8...</td>\n",
              "    </tr>\n",
              "    <tr>\n",
              "      <th>22</th>\n",
              "      <td>loss</td>\n",
              "      <td>[-21.598966465997364, -60.14632814937795, 1.60...</td>\n",
              "    </tr>\n",
              "    <tr>\n",
              "      <th>23</th>\n",
              "      <td>loss</td>\n",
              "      <td>[89.06318323718551, 82.4343539024303, 63.39182...</td>\n",
              "    </tr>\n",
              "    <tr>\n",
              "      <th>24</th>\n",
              "      <td>win</td>\n",
              "      <td>[-46.38225707213678, -31.33841542322807, -83.4...</td>\n",
              "    </tr>\n",
              "    <tr>\n",
              "      <th>25</th>\n",
              "      <td>win</td>\n",
              "      <td>[-52.50902903052338, 7.736638544700327, -35.68...</td>\n",
              "    </tr>\n",
              "    <tr>\n",
              "      <th>26</th>\n",
              "      <td>loss</td>\n",
              "      <td>[-20.468272746771618, -8.251449962701372, -83....</td>\n",
              "    </tr>\n",
              "    <tr>\n",
              "      <th>27</th>\n",
              "      <td>win</td>\n",
              "      <td>[53.16807932696611, 42.19004623384535, 8.64338...</td>\n",
              "    </tr>\n",
              "    <tr>\n",
              "      <th>28</th>\n",
              "      <td>loss</td>\n",
              "      <td>[82.74277705171153, 91.19489049782533, -16.998...</td>\n",
              "    </tr>\n",
              "    <tr>\n",
              "      <th>29</th>\n",
              "      <td>win</td>\n",
              "      <td>[1.1135953291886835, 31.460708240423628, -71.1...</td>\n",
              "    </tr>\n",
              "    <tr>\n",
              "      <th>30</th>\n",
              "      <td>win</td>\n",
              "      <td>[-48.60858132563044, 64.27455743861537, -9.800...</td>\n",
              "    </tr>\n",
              "    <tr>\n",
              "      <th>31</th>\n",
              "      <td>win</td>\n",
              "      <td>[7.421958277886006, 76.25127413269365, -36.411...</td>\n",
              "    </tr>\n",
              "  </tbody>\n",
              "</table>\n",
              "</div>\n",
              "      <button class=\"colab-df-convert\" onclick=\"convertToInteractive('df-2900d930-d7fb-4b5c-a2dc-1bf9a679b445')\"\n",
              "              title=\"Convert this dataframe to an interactive table.\"\n",
              "              style=\"display:none;\">\n",
              "        \n",
              "  <svg xmlns=\"http://www.w3.org/2000/svg\" height=\"24px\"viewBox=\"0 0 24 24\"\n",
              "       width=\"24px\">\n",
              "    <path d=\"M0 0h24v24H0V0z\" fill=\"none\"/>\n",
              "    <path d=\"M18.56 5.44l.94 2.06.94-2.06 2.06-.94-2.06-.94-.94-2.06-.94 2.06-2.06.94zm-11 1L8.5 8.5l.94-2.06 2.06-.94-2.06-.94L8.5 2.5l-.94 2.06-2.06.94zm10 10l.94 2.06.94-2.06 2.06-.94-2.06-.94-.94-2.06-.94 2.06-2.06.94z\"/><path d=\"M17.41 7.96l-1.37-1.37c-.4-.4-.92-.59-1.43-.59-.52 0-1.04.2-1.43.59L10.3 9.45l-7.72 7.72c-.78.78-.78 2.05 0 2.83L4 21.41c.39.39.9.59 1.41.59.51 0 1.02-.2 1.41-.59l7.78-7.78 2.81-2.81c.8-.78.8-2.07 0-2.86zM5.41 20L4 18.59l7.72-7.72 1.47 1.35L5.41 20z\"/>\n",
              "  </svg>\n",
              "      </button>\n",
              "      \n",
              "  <style>\n",
              "    .colab-df-container {\n",
              "      display:flex;\n",
              "      flex-wrap:wrap;\n",
              "      gap: 12px;\n",
              "    }\n",
              "\n",
              "    .colab-df-convert {\n",
              "      background-color: #E8F0FE;\n",
              "      border: none;\n",
              "      border-radius: 50%;\n",
              "      cursor: pointer;\n",
              "      display: none;\n",
              "      fill: #1967D2;\n",
              "      height: 32px;\n",
              "      padding: 0 0 0 0;\n",
              "      width: 32px;\n",
              "    }\n",
              "\n",
              "    .colab-df-convert:hover {\n",
              "      background-color: #E2EBFA;\n",
              "      box-shadow: 0px 1px 2px rgba(60, 64, 67, 0.3), 0px 1px 3px 1px rgba(60, 64, 67, 0.15);\n",
              "      fill: #174EA6;\n",
              "    }\n",
              "\n",
              "    [theme=dark] .colab-df-convert {\n",
              "      background-color: #3B4455;\n",
              "      fill: #D2E3FC;\n",
              "    }\n",
              "\n",
              "    [theme=dark] .colab-df-convert:hover {\n",
              "      background-color: #434B5C;\n",
              "      box-shadow: 0px 1px 3px 1px rgba(0, 0, 0, 0.15);\n",
              "      filter: drop-shadow(0px 1px 2px rgba(0, 0, 0, 0.3));\n",
              "      fill: #FFFFFF;\n",
              "    }\n",
              "  </style>\n",
              "\n",
              "      <script>\n",
              "        const buttonEl =\n",
              "          document.querySelector('#df-2900d930-d7fb-4b5c-a2dc-1bf9a679b445 button.colab-df-convert');\n",
              "        buttonEl.style.display =\n",
              "          google.colab.kernel.accessAllowed ? 'block' : 'none';\n",
              "\n",
              "        async function convertToInteractive(key) {\n",
              "          const element = document.querySelector('#df-2900d930-d7fb-4b5c-a2dc-1bf9a679b445');\n",
              "          const dataTable =\n",
              "            await google.colab.kernel.invokeFunction('convertToInteractive',\n",
              "                                                     [key], {});\n",
              "          if (!dataTable) return;\n",
              "\n",
              "          const docLinkHtml = 'Like what you see? Visit the ' +\n",
              "            '<a target=\"_blank\" href=https://colab.research.google.com/notebooks/data_table.ipynb>data table notebook</a>'\n",
              "            + ' to learn more about interactive tables.';\n",
              "          element.innerHTML = '';\n",
              "          dataTable['output_type'] = 'display_data';\n",
              "          await google.colab.output.renderOutput(dataTable, element);\n",
              "          const docLink = document.createElement('div');\n",
              "          docLink.innerHTML = docLinkHtml;\n",
              "          element.appendChild(docLink);\n",
              "        }\n",
              "      </script>\n",
              "    </div>\n",
              "  </div>\n",
              "  "
            ]
          },
          "metadata": {},
          "execution_count": 19
        }
      ]
    },
    {
      "cell_type": "markdown",
      "source": [
        "# FMRI for all subjects \n",
        "in shape (N_subjects,conditions, n_features*timepoints)"
      ],
      "metadata": {
        "id": "cvP7lq3D1Euv"
      }
    },
    {
      "cell_type": "code",
      "source": [
        "r=0\n",
        "my_exp = 'GAMBLING'\n",
        "df_events = pd.DataFrame()\n",
        "df_fmri = pd.DataFrame()\n",
        "\n",
        "for s in subjects:\n",
        "  data = load_single_timeseries(subject=s, experiment=my_exp, run=r, remove_mean=True)\n",
        "  data=data.transpose()\n",
        "  evs = load_df_evs_frames(subject=s, experiment=my_exp, run=r)\n",
        "  evs_sorted = evs.sort_values('start')\n",
        "  evs_sorted.drop(columns=['start'],inplace=True)\n",
        "  evs_sorted.reset_index(inplace=True,drop=True)\n",
        "\n",
        "  evs_fmri = pd.DataFrame()\n",
        "  # empty_fmri = [np.zeros(360*5)]*evs_sorted.shape[0]\n",
        "  # evs_fmri['fmri']=empty_fmri\n",
        "  no_of_events = evs_sorted.shape[0]\n",
        "  # load fmri data to df\n",
        "  for i in range(no_of_events):  \n",
        "    frame= evs_sorted.iloc[i]['Timepoints']\n",
        "    fmri_frame = data[frame,:]\n",
        "    fmri_frame_flat=pd.DataFrame(np.ravel(fmri_frame)).transpose()\n",
        "    evs_fmri=pd.concat([evs_fmri,fmri_frame_flat])\n",
        "    evs_fmri.reset_index(inplace=True,drop=True)\n",
        "  evs_sorted.drop(columns='Timepoints',inplace=True)\n",
        "\n",
        "  #print(evs_sorted.shape,evs_fmri.shape)\n",
        "  df_events=df_events.append(evs_sorted)\n",
        "  df_fmri=df_fmri.append(evs_fmri)"
      ],
      "metadata": {
        "id": "8h0LNhTh6goz"
      },
      "execution_count": null,
      "outputs": []
    },
    {
      "cell_type": "code",
      "source": [
        "df_events.shape"
      ],
      "metadata": {
        "colab": {
          "base_uri": "https://localhost:8080/"
        },
        "id": "QlPKYwWY8NgW",
        "outputId": "4173d213-1d64-43b2-9155-5960046dc6c7"
      },
      "execution_count": null,
      "outputs": [
        {
          "output_type": "execute_result",
          "data": {
            "text/plain": [
              "(3200, 1)"
            ]
          },
          "metadata": {},
          "execution_count": 21
        }
      ]
    },
    {
      "cell_type": "code",
      "source": [
        "print(df_fmri.shape)"
      ],
      "metadata": {
        "colab": {
          "base_uri": "https://localhost:8080/"
        },
        "id": "-xwE3WI1ALox",
        "outputId": "5a2a8cd4-920d-4ed4-96f3-09c03d8ef925"
      },
      "execution_count": null,
      "outputs": [
        {
          "output_type": "stream",
          "name": "stdout",
          "text": [
            "(3200, 1800)\n"
          ]
        }
      ]
    },
    {
      "cell_type": "code",
      "source": [
        "df_fmri.iloc[33]"
      ],
      "metadata": {
        "colab": {
          "base_uri": "https://localhost:8080/"
        },
        "id": "esyTbtR_8zw6",
        "outputId": "c3fba02d-6dcb-4099-cb1d-46186215de33"
      },
      "execution_count": null,
      "outputs": [
        {
          "output_type": "execute_result",
          "data": {
            "text/plain": [
              "0        20.526074\n",
              "1       -39.517628\n",
              "2         1.415378\n",
              "3       -44.652678\n",
              "4         4.379296\n",
              "           ...    \n",
              "1795     84.472765\n",
              "1796    -78.427786\n",
              "1797    -62.015464\n",
              "1798    176.681714\n",
              "1799     50.832478\n",
              "Name: 1, Length: 1800, dtype: float64"
            ]
          },
          "metadata": {},
          "execution_count": 18
        }
      ]
    },
    {
      "cell_type": "code",
      "source": [
        "# df_fmri.to_csv('file1.csv')"
      ],
      "metadata": {
        "id": "yiw4JrkR_xsL"
      },
      "execution_count": null,
      "outputs": []
    },
    {
      "cell_type": "code",
      "source": [
        "from google.colab import drive\n",
        "drive.mount('/content/drive')"
      ],
      "metadata": {
        "colab": {
          "base_uri": "https://localhost:8080/"
        },
        "id": "hisexxd5AlCU",
        "outputId": "490ba141-1e8b-454c-c5b1-5236b0b21d83"
      },
      "execution_count": null,
      "outputs": [
        {
          "output_type": "stream",
          "name": "stdout",
          "text": [
            "Mounted at /content/drive\n"
          ]
        }
      ]
    },
    {
      "cell_type": "code",
      "source": [
        "ls"
      ],
      "metadata": {
        "colab": {
          "base_uri": "https://localhost:8080/"
        },
        "id": "cvyycFIQAlYU",
        "outputId": "3a6b28e8-8052-46ab-9fca-5f8058d69a33"
      },
      "execution_count": null,
      "outputs": [
        {
          "output_type": "stream",
          "name": "stdout",
          "text": [
            "\u001b[0m\u001b[01;34mdrive\u001b[0m/  file1.csv  \u001b[01;34mhcp_task\u001b[0m/  hcp_task.tgz  \u001b[01;34msample_data\u001b[0m/\n"
          ]
        }
      ]
    },
    {
      "cell_type": "code",
      "source": [
        "cd '/content/drive/My Drive/NMA-DL 2022/nmaproject'"
      ],
      "metadata": {
        "colab": {
          "base_uri": "https://localhost:8080/"
        },
        "id": "bkiXrGXCAyYO",
        "outputId": "a3cb61fc-f3bb-402e-e186-479ae3915bf4"
      },
      "execution_count": null,
      "outputs": [
        {
          "output_type": "stream",
          "name": "stdout",
          "text": [
            "/content/drive/.shortcut-targets-by-id/1lr36-u30LBtfXLdR-6EEp0ha2-OTHhlG/nmaproject\n"
          ]
        }
      ]
    },
    {
      "cell_type": "code",
      "source": [
        "ls"
      ],
      "metadata": {
        "colab": {
          "base_uri": "https://localhost:8080/"
        },
        "id": "rEoWNUAFBQkJ",
        "outputId": "cca49b44-7e5c-491e-9a18-000c5aaa21fb"
      },
      "execution_count": null,
      "outputs": [
        {
          "output_type": "stream",
          "name": "stdout",
          "text": [
            " 1.get_fmri_time_series.ipynb   fmri_transformer.ipynb\n",
            " \u001b[0m\u001b[01;34mBolT\u001b[0m/                         'get_win_loss_reward_trials '\n",
            " connectivity_hcp               \u001b[01;34mInput-Cell-Attention\u001b[0m/\n",
            " fmri_baseline.ipynb           'IO of transformers.ipynb'\n",
            " fmri_rnn.ipynb                 original_data\n"
          ]
        }
      ]
    },
    {
      "cell_type": "code",
      "source": [
        "df_fmri.to_csv('data_fmri_all.csv')"
      ],
      "metadata": {
        "id": "ztpNlcMnBVKJ"
      },
      "execution_count": null,
      "outputs": []
    },
    {
      "cell_type": "code",
      "source": [
        "df_events.to_csv('data_events_all.csv')"
      ],
      "metadata": {
        "id": "UAmDZq4JBdtK"
      },
      "execution_count": null,
      "outputs": []
    },
    {
      "cell_type": "code",
      "source": [
        "ls"
      ],
      "metadata": {
        "colab": {
          "base_uri": "https://localhost:8080/"
        },
        "id": "GEIKa3jKBkOE",
        "outputId": "f8eb7449-1f86-4791-ff66-b00ab83e0014"
      },
      "execution_count": null,
      "outputs": [
        {
          "output_type": "stream",
          "name": "stdout",
          "text": [
            " 1.get_fmri_time_series.ipynb   fmri_rnn.ipynb\n",
            " \u001b[0m\u001b[01;34mBolT\u001b[0m/                          fmri_transformer.ipynb\n",
            " connectivity_hcp              'get_win_loss_reward_trials '\n",
            " events_all.csv                 \u001b[01;34mInput-Cell-Attention\u001b[0m/\n",
            " fmri_all.csv                  'IO of transformers.ipynb'\n",
            " fmri_baseline.ipynb            original_data\n"
          ]
        }
      ]
    },
    {
      "cell_type": "code",
      "source": [
        "df_fmri"
      ],
      "metadata": {
        "colab": {
          "base_uri": "https://localhost:8080/",
          "height": 1210
        },
        "id": "7ZHwsrUnBoEn",
        "outputId": "86318457-3f60-45fc-86fc-2c86ecd22dfe"
      },
      "execution_count": null,
      "outputs": [
        {
          "output_type": "execute_result",
          "data": {
            "text/plain": [
              "         0          1          2          3          4          5     \\\n",
              "0  -38.199091  42.972339  23.782777 -21.746358 -25.364060 -56.569161   \n",
              "1  -19.408738  40.798010 -43.587189 -36.258554  28.598514   4.321796   \n",
              "2   34.790439  68.129013 -46.958291  17.017267  22.692233  -7.855621   \n",
              "3   -9.253665  -0.636214   3.102502  11.351100  18.267102  12.589415   \n",
              "4   16.328306 -15.505585 -48.035146  15.002931 -16.396359  -4.455515   \n",
              "..        ...        ...        ...        ...        ...        ...   \n",
              "27 -34.804387 -19.555912 -52.463524 -66.736259 -73.475935 -80.187007   \n",
              "28 -31.696290  13.541269 -27.105808 -79.862206 -18.085045 -39.646956   \n",
              "29  45.524560  24.105273  77.308532  11.921680  32.595728  27.269427   \n",
              "30  32.379549  -5.364415 -19.693826 -13.014656 -35.750181 -44.808175   \n",
              "31  65.248892  42.522149  14.918772  70.554961  20.845558  52.084831   \n",
              "\n",
              "          6          7          8          9     ...        1790        1791  \\\n",
              "0   -88.103271  24.002839  23.678154 -21.755606  ... -184.555471  -46.214629   \n",
              "1   -36.709137  20.255197  22.256466  11.948283  ... -140.382551  -51.175064   \n",
              "2  -100.486892  -9.186491   3.720721 -19.217364  ... -106.758232 -126.441789   \n",
              "3    31.406105 -22.193624   3.892748  20.695907  ... -107.788097 -108.517859   \n",
              "4   -12.811370 -27.342111  -3.645424 -12.477021  ...  -75.575259 -109.400285   \n",
              "..         ...        ...        ...        ...  ...         ...         ...   \n",
              "27   -7.052904 -10.849052 -31.877924  -3.864255  ...   10.557261  -52.891488   \n",
              "28  -14.865846  10.248980  -4.187231  -9.325255  ...   28.484443  -76.117682   \n",
              "29   29.772597  -6.538728 -22.307073  28.916619  ...   50.995670  -50.873101   \n",
              "30 -100.937975   8.108065 -16.028607 -10.227932  ...    2.567769  -21.573245   \n",
              "31   81.590452   5.914441  -0.110486  19.784821  ...    6.644925   -0.944456   \n",
              "\n",
              "         1792        1793       1794        1795       1796        1797  \\\n",
              "0   21.017382 -113.128886 -28.258001   -5.063690 -65.811263  -24.764323   \n",
              "1  -77.264748 -140.341340 -33.973469  -40.327892 -56.276677 -106.763887   \n",
              "2  -23.498876    4.934218 -39.752704  -82.006179  11.808902  -77.285650   \n",
              "3  -47.480590  -20.730076 -62.235035  -67.055212   0.544794 -122.031503   \n",
              "4  -75.219268  -90.182379 -51.310730  -53.819095 -36.769716  -80.992343   \n",
              "..        ...         ...        ...         ...        ...         ...   \n",
              "27  23.063001   49.519895  67.345272    7.431189  34.562969   86.804617   \n",
              "28  -5.670301   67.982979  71.369368  -41.736855 -29.853186   19.502228   \n",
              "29 -15.176246    3.040005  67.015876  111.744689   4.299122  -62.687225   \n",
              "30  81.446329   13.286214  36.108484  -31.531012  10.083105  146.221857   \n",
              "31 -18.157262  104.310217   6.441708   35.414338  50.751196 -102.243701   \n",
              "\n",
              "          1798        1799  \n",
              "0    24.887710   70.467867  \n",
              "1     0.516792   -2.871168  \n",
              "2    -7.289299   21.853963  \n",
              "3   -21.802361  136.615648  \n",
              "4   -25.060227  136.713523  \n",
              "..         ...         ...  \n",
              "27  -84.416144   16.810562  \n",
              "28   74.094048  -24.010693  \n",
              "29  -80.867843   22.820749  \n",
              "30  -46.056464   41.314132  \n",
              "31 -161.268043  -47.597422  \n",
              "\n",
              "[3200 rows x 1800 columns]"
            ],
            "text/html": [
              "\n",
              "  <div id=\"df-c62618b1-4ab7-4630-b39c-8ad272bd7bea\">\n",
              "    <div class=\"colab-df-container\">\n",
              "      <div>\n",
              "<style scoped>\n",
              "    .dataframe tbody tr th:only-of-type {\n",
              "        vertical-align: middle;\n",
              "    }\n",
              "\n",
              "    .dataframe tbody tr th {\n",
              "        vertical-align: top;\n",
              "    }\n",
              "\n",
              "    .dataframe thead th {\n",
              "        text-align: right;\n",
              "    }\n",
              "</style>\n",
              "<table border=\"1\" class=\"dataframe\">\n",
              "  <thead>\n",
              "    <tr style=\"text-align: right;\">\n",
              "      <th></th>\n",
              "      <th>0</th>\n",
              "      <th>1</th>\n",
              "      <th>2</th>\n",
              "      <th>3</th>\n",
              "      <th>4</th>\n",
              "      <th>5</th>\n",
              "      <th>6</th>\n",
              "      <th>7</th>\n",
              "      <th>8</th>\n",
              "      <th>9</th>\n",
              "      <th>...</th>\n",
              "      <th>1790</th>\n",
              "      <th>1791</th>\n",
              "      <th>1792</th>\n",
              "      <th>1793</th>\n",
              "      <th>1794</th>\n",
              "      <th>1795</th>\n",
              "      <th>1796</th>\n",
              "      <th>1797</th>\n",
              "      <th>1798</th>\n",
              "      <th>1799</th>\n",
              "    </tr>\n",
              "  </thead>\n",
              "  <tbody>\n",
              "    <tr>\n",
              "      <th>0</th>\n",
              "      <td>-38.199091</td>\n",
              "      <td>42.972339</td>\n",
              "      <td>23.782777</td>\n",
              "      <td>-21.746358</td>\n",
              "      <td>-25.364060</td>\n",
              "      <td>-56.569161</td>\n",
              "      <td>-88.103271</td>\n",
              "      <td>24.002839</td>\n",
              "      <td>23.678154</td>\n",
              "      <td>-21.755606</td>\n",
              "      <td>...</td>\n",
              "      <td>-184.555471</td>\n",
              "      <td>-46.214629</td>\n",
              "      <td>21.017382</td>\n",
              "      <td>-113.128886</td>\n",
              "      <td>-28.258001</td>\n",
              "      <td>-5.063690</td>\n",
              "      <td>-65.811263</td>\n",
              "      <td>-24.764323</td>\n",
              "      <td>24.887710</td>\n",
              "      <td>70.467867</td>\n",
              "    </tr>\n",
              "    <tr>\n",
              "      <th>1</th>\n",
              "      <td>-19.408738</td>\n",
              "      <td>40.798010</td>\n",
              "      <td>-43.587189</td>\n",
              "      <td>-36.258554</td>\n",
              "      <td>28.598514</td>\n",
              "      <td>4.321796</td>\n",
              "      <td>-36.709137</td>\n",
              "      <td>20.255197</td>\n",
              "      <td>22.256466</td>\n",
              "      <td>11.948283</td>\n",
              "      <td>...</td>\n",
              "      <td>-140.382551</td>\n",
              "      <td>-51.175064</td>\n",
              "      <td>-77.264748</td>\n",
              "      <td>-140.341340</td>\n",
              "      <td>-33.973469</td>\n",
              "      <td>-40.327892</td>\n",
              "      <td>-56.276677</td>\n",
              "      <td>-106.763887</td>\n",
              "      <td>0.516792</td>\n",
              "      <td>-2.871168</td>\n",
              "    </tr>\n",
              "    <tr>\n",
              "      <th>2</th>\n",
              "      <td>34.790439</td>\n",
              "      <td>68.129013</td>\n",
              "      <td>-46.958291</td>\n",
              "      <td>17.017267</td>\n",
              "      <td>22.692233</td>\n",
              "      <td>-7.855621</td>\n",
              "      <td>-100.486892</td>\n",
              "      <td>-9.186491</td>\n",
              "      <td>3.720721</td>\n",
              "      <td>-19.217364</td>\n",
              "      <td>...</td>\n",
              "      <td>-106.758232</td>\n",
              "      <td>-126.441789</td>\n",
              "      <td>-23.498876</td>\n",
              "      <td>4.934218</td>\n",
              "      <td>-39.752704</td>\n",
              "      <td>-82.006179</td>\n",
              "      <td>11.808902</td>\n",
              "      <td>-77.285650</td>\n",
              "      <td>-7.289299</td>\n",
              "      <td>21.853963</td>\n",
              "    </tr>\n",
              "    <tr>\n",
              "      <th>3</th>\n",
              "      <td>-9.253665</td>\n",
              "      <td>-0.636214</td>\n",
              "      <td>3.102502</td>\n",
              "      <td>11.351100</td>\n",
              "      <td>18.267102</td>\n",
              "      <td>12.589415</td>\n",
              "      <td>31.406105</td>\n",
              "      <td>-22.193624</td>\n",
              "      <td>3.892748</td>\n",
              "      <td>20.695907</td>\n",
              "      <td>...</td>\n",
              "      <td>-107.788097</td>\n",
              "      <td>-108.517859</td>\n",
              "      <td>-47.480590</td>\n",
              "      <td>-20.730076</td>\n",
              "      <td>-62.235035</td>\n",
              "      <td>-67.055212</td>\n",
              "      <td>0.544794</td>\n",
              "      <td>-122.031503</td>\n",
              "      <td>-21.802361</td>\n",
              "      <td>136.615648</td>\n",
              "    </tr>\n",
              "    <tr>\n",
              "      <th>4</th>\n",
              "      <td>16.328306</td>\n",
              "      <td>-15.505585</td>\n",
              "      <td>-48.035146</td>\n",
              "      <td>15.002931</td>\n",
              "      <td>-16.396359</td>\n",
              "      <td>-4.455515</td>\n",
              "      <td>-12.811370</td>\n",
              "      <td>-27.342111</td>\n",
              "      <td>-3.645424</td>\n",
              "      <td>-12.477021</td>\n",
              "      <td>...</td>\n",
              "      <td>-75.575259</td>\n",
              "      <td>-109.400285</td>\n",
              "      <td>-75.219268</td>\n",
              "      <td>-90.182379</td>\n",
              "      <td>-51.310730</td>\n",
              "      <td>-53.819095</td>\n",
              "      <td>-36.769716</td>\n",
              "      <td>-80.992343</td>\n",
              "      <td>-25.060227</td>\n",
              "      <td>136.713523</td>\n",
              "    </tr>\n",
              "    <tr>\n",
              "      <th>...</th>\n",
              "      <td>...</td>\n",
              "      <td>...</td>\n",
              "      <td>...</td>\n",
              "      <td>...</td>\n",
              "      <td>...</td>\n",
              "      <td>...</td>\n",
              "      <td>...</td>\n",
              "      <td>...</td>\n",
              "      <td>...</td>\n",
              "      <td>...</td>\n",
              "      <td>...</td>\n",
              "      <td>...</td>\n",
              "      <td>...</td>\n",
              "      <td>...</td>\n",
              "      <td>...</td>\n",
              "      <td>...</td>\n",
              "      <td>...</td>\n",
              "      <td>...</td>\n",
              "      <td>...</td>\n",
              "      <td>...</td>\n",
              "      <td>...</td>\n",
              "    </tr>\n",
              "    <tr>\n",
              "      <th>27</th>\n",
              "      <td>-34.804387</td>\n",
              "      <td>-19.555912</td>\n",
              "      <td>-52.463524</td>\n",
              "      <td>-66.736259</td>\n",
              "      <td>-73.475935</td>\n",
              "      <td>-80.187007</td>\n",
              "      <td>-7.052904</td>\n",
              "      <td>-10.849052</td>\n",
              "      <td>-31.877924</td>\n",
              "      <td>-3.864255</td>\n",
              "      <td>...</td>\n",
              "      <td>10.557261</td>\n",
              "      <td>-52.891488</td>\n",
              "      <td>23.063001</td>\n",
              "      <td>49.519895</td>\n",
              "      <td>67.345272</td>\n",
              "      <td>7.431189</td>\n",
              "      <td>34.562969</td>\n",
              "      <td>86.804617</td>\n",
              "      <td>-84.416144</td>\n",
              "      <td>16.810562</td>\n",
              "    </tr>\n",
              "    <tr>\n",
              "      <th>28</th>\n",
              "      <td>-31.696290</td>\n",
              "      <td>13.541269</td>\n",
              "      <td>-27.105808</td>\n",
              "      <td>-79.862206</td>\n",
              "      <td>-18.085045</td>\n",
              "      <td>-39.646956</td>\n",
              "      <td>-14.865846</td>\n",
              "      <td>10.248980</td>\n",
              "      <td>-4.187231</td>\n",
              "      <td>-9.325255</td>\n",
              "      <td>...</td>\n",
              "      <td>28.484443</td>\n",
              "      <td>-76.117682</td>\n",
              "      <td>-5.670301</td>\n",
              "      <td>67.982979</td>\n",
              "      <td>71.369368</td>\n",
              "      <td>-41.736855</td>\n",
              "      <td>-29.853186</td>\n",
              "      <td>19.502228</td>\n",
              "      <td>74.094048</td>\n",
              "      <td>-24.010693</td>\n",
              "    </tr>\n",
              "    <tr>\n",
              "      <th>29</th>\n",
              "      <td>45.524560</td>\n",
              "      <td>24.105273</td>\n",
              "      <td>77.308532</td>\n",
              "      <td>11.921680</td>\n",
              "      <td>32.595728</td>\n",
              "      <td>27.269427</td>\n",
              "      <td>29.772597</td>\n",
              "      <td>-6.538728</td>\n",
              "      <td>-22.307073</td>\n",
              "      <td>28.916619</td>\n",
              "      <td>...</td>\n",
              "      <td>50.995670</td>\n",
              "      <td>-50.873101</td>\n",
              "      <td>-15.176246</td>\n",
              "      <td>3.040005</td>\n",
              "      <td>67.015876</td>\n",
              "      <td>111.744689</td>\n",
              "      <td>4.299122</td>\n",
              "      <td>-62.687225</td>\n",
              "      <td>-80.867843</td>\n",
              "      <td>22.820749</td>\n",
              "    </tr>\n",
              "    <tr>\n",
              "      <th>30</th>\n",
              "      <td>32.379549</td>\n",
              "      <td>-5.364415</td>\n",
              "      <td>-19.693826</td>\n",
              "      <td>-13.014656</td>\n",
              "      <td>-35.750181</td>\n",
              "      <td>-44.808175</td>\n",
              "      <td>-100.937975</td>\n",
              "      <td>8.108065</td>\n",
              "      <td>-16.028607</td>\n",
              "      <td>-10.227932</td>\n",
              "      <td>...</td>\n",
              "      <td>2.567769</td>\n",
              "      <td>-21.573245</td>\n",
              "      <td>81.446329</td>\n",
              "      <td>13.286214</td>\n",
              "      <td>36.108484</td>\n",
              "      <td>-31.531012</td>\n",
              "      <td>10.083105</td>\n",
              "      <td>146.221857</td>\n",
              "      <td>-46.056464</td>\n",
              "      <td>41.314132</td>\n",
              "    </tr>\n",
              "    <tr>\n",
              "      <th>31</th>\n",
              "      <td>65.248892</td>\n",
              "      <td>42.522149</td>\n",
              "      <td>14.918772</td>\n",
              "      <td>70.554961</td>\n",
              "      <td>20.845558</td>\n",
              "      <td>52.084831</td>\n",
              "      <td>81.590452</td>\n",
              "      <td>5.914441</td>\n",
              "      <td>-0.110486</td>\n",
              "      <td>19.784821</td>\n",
              "      <td>...</td>\n",
              "      <td>6.644925</td>\n",
              "      <td>-0.944456</td>\n",
              "      <td>-18.157262</td>\n",
              "      <td>104.310217</td>\n",
              "      <td>6.441708</td>\n",
              "      <td>35.414338</td>\n",
              "      <td>50.751196</td>\n",
              "      <td>-102.243701</td>\n",
              "      <td>-161.268043</td>\n",
              "      <td>-47.597422</td>\n",
              "    </tr>\n",
              "  </tbody>\n",
              "</table>\n",
              "<p>3200 rows × 1800 columns</p>\n",
              "</div>\n",
              "      <button class=\"colab-df-convert\" onclick=\"convertToInteractive('df-c62618b1-4ab7-4630-b39c-8ad272bd7bea')\"\n",
              "              title=\"Convert this dataframe to an interactive table.\"\n",
              "              style=\"display:none;\">\n",
              "        \n",
              "  <svg xmlns=\"http://www.w3.org/2000/svg\" height=\"24px\"viewBox=\"0 0 24 24\"\n",
              "       width=\"24px\">\n",
              "    <path d=\"M0 0h24v24H0V0z\" fill=\"none\"/>\n",
              "    <path d=\"M18.56 5.44l.94 2.06.94-2.06 2.06-.94-2.06-.94-.94-2.06-.94 2.06-2.06.94zm-11 1L8.5 8.5l.94-2.06 2.06-.94-2.06-.94L8.5 2.5l-.94 2.06-2.06.94zm10 10l.94 2.06.94-2.06 2.06-.94-2.06-.94-.94-2.06-.94 2.06-2.06.94z\"/><path d=\"M17.41 7.96l-1.37-1.37c-.4-.4-.92-.59-1.43-.59-.52 0-1.04.2-1.43.59L10.3 9.45l-7.72 7.72c-.78.78-.78 2.05 0 2.83L4 21.41c.39.39.9.59 1.41.59.51 0 1.02-.2 1.41-.59l7.78-7.78 2.81-2.81c.8-.78.8-2.07 0-2.86zM5.41 20L4 18.59l7.72-7.72 1.47 1.35L5.41 20z\"/>\n",
              "  </svg>\n",
              "      </button>\n",
              "      \n",
              "  <style>\n",
              "    .colab-df-container {\n",
              "      display:flex;\n",
              "      flex-wrap:wrap;\n",
              "      gap: 12px;\n",
              "    }\n",
              "\n",
              "    .colab-df-convert {\n",
              "      background-color: #E8F0FE;\n",
              "      border: none;\n",
              "      border-radius: 50%;\n",
              "      cursor: pointer;\n",
              "      display: none;\n",
              "      fill: #1967D2;\n",
              "      height: 32px;\n",
              "      padding: 0 0 0 0;\n",
              "      width: 32px;\n",
              "    }\n",
              "\n",
              "    .colab-df-convert:hover {\n",
              "      background-color: #E2EBFA;\n",
              "      box-shadow: 0px 1px 2px rgba(60, 64, 67, 0.3), 0px 1px 3px 1px rgba(60, 64, 67, 0.15);\n",
              "      fill: #174EA6;\n",
              "    }\n",
              "\n",
              "    [theme=dark] .colab-df-convert {\n",
              "      background-color: #3B4455;\n",
              "      fill: #D2E3FC;\n",
              "    }\n",
              "\n",
              "    [theme=dark] .colab-df-convert:hover {\n",
              "      background-color: #434B5C;\n",
              "      box-shadow: 0px 1px 3px 1px rgba(0, 0, 0, 0.15);\n",
              "      filter: drop-shadow(0px 1px 2px rgba(0, 0, 0, 0.3));\n",
              "      fill: #FFFFFF;\n",
              "    }\n",
              "  </style>\n",
              "\n",
              "      <script>\n",
              "        const buttonEl =\n",
              "          document.querySelector('#df-c62618b1-4ab7-4630-b39c-8ad272bd7bea button.colab-df-convert');\n",
              "        buttonEl.style.display =\n",
              "          google.colab.kernel.accessAllowed ? 'block' : 'none';\n",
              "\n",
              "        async function convertToInteractive(key) {\n",
              "          const element = document.querySelector('#df-c62618b1-4ab7-4630-b39c-8ad272bd7bea');\n",
              "          const dataTable =\n",
              "            await google.colab.kernel.invokeFunction('convertToInteractive',\n",
              "                                                     [key], {});\n",
              "          if (!dataTable) return;\n",
              "\n",
              "          const docLinkHtml = 'Like what you see? Visit the ' +\n",
              "            '<a target=\"_blank\" href=https://colab.research.google.com/notebooks/data_table.ipynb>data table notebook</a>'\n",
              "            + ' to learn more about interactive tables.';\n",
              "          element.innerHTML = '';\n",
              "          dataTable['output_type'] = 'display_data';\n",
              "          await google.colab.output.renderOutput(dataTable, element);\n",
              "          const docLink = document.createElement('div');\n",
              "          docLink.innerHTML = docLinkHtml;\n",
              "          element.appendChild(docLink);\n",
              "        }\n",
              "      </script>\n",
              "    </div>\n",
              "  </div>\n",
              "  "
            ]
          },
          "metadata": {},
          "execution_count": 35
        },
        {
          "output_type": "stream",
          "name": "stdout",
          "text": [
            "Warning: Total number of columns (1800) exceeds max_columns (20) limiting to first (20) columns.\n"
          ]
        }
      ]
    },
    {
      "cell_type": "code",
      "source": [
        "df_events"
      ],
      "metadata": {
        "colab": {
          "base_uri": "https://localhost:8080/",
          "height": 424
        },
        "id": "DtFo4LvGClku",
        "outputId": "08173da9-0734-400f-f6d3-2ce300488bb2"
      },
      "execution_count": null,
      "outputs": [
        {
          "output_type": "execute_result",
          "data": {
            "text/plain": [
              "   condition\n",
              "0       loss\n",
              "1       loss\n",
              "2        win\n",
              "3       loss\n",
              "4        win\n",
              "..       ...\n",
              "27       win\n",
              "28      loss\n",
              "29       win\n",
              "30       win\n",
              "31       win\n",
              "\n",
              "[3200 rows x 1 columns]"
            ],
            "text/html": [
              "\n",
              "  <div id=\"df-b4416b8b-ccf6-44b2-93ae-251016133c59\">\n",
              "    <div class=\"colab-df-container\">\n",
              "      <div>\n",
              "<style scoped>\n",
              "    .dataframe tbody tr th:only-of-type {\n",
              "        vertical-align: middle;\n",
              "    }\n",
              "\n",
              "    .dataframe tbody tr th {\n",
              "        vertical-align: top;\n",
              "    }\n",
              "\n",
              "    .dataframe thead th {\n",
              "        text-align: right;\n",
              "    }\n",
              "</style>\n",
              "<table border=\"1\" class=\"dataframe\">\n",
              "  <thead>\n",
              "    <tr style=\"text-align: right;\">\n",
              "      <th></th>\n",
              "      <th>condition</th>\n",
              "    </tr>\n",
              "  </thead>\n",
              "  <tbody>\n",
              "    <tr>\n",
              "      <th>0</th>\n",
              "      <td>loss</td>\n",
              "    </tr>\n",
              "    <tr>\n",
              "      <th>1</th>\n",
              "      <td>loss</td>\n",
              "    </tr>\n",
              "    <tr>\n",
              "      <th>2</th>\n",
              "      <td>win</td>\n",
              "    </tr>\n",
              "    <tr>\n",
              "      <th>3</th>\n",
              "      <td>loss</td>\n",
              "    </tr>\n",
              "    <tr>\n",
              "      <th>4</th>\n",
              "      <td>win</td>\n",
              "    </tr>\n",
              "    <tr>\n",
              "      <th>...</th>\n",
              "      <td>...</td>\n",
              "    </tr>\n",
              "    <tr>\n",
              "      <th>27</th>\n",
              "      <td>win</td>\n",
              "    </tr>\n",
              "    <tr>\n",
              "      <th>28</th>\n",
              "      <td>loss</td>\n",
              "    </tr>\n",
              "    <tr>\n",
              "      <th>29</th>\n",
              "      <td>win</td>\n",
              "    </tr>\n",
              "    <tr>\n",
              "      <th>30</th>\n",
              "      <td>win</td>\n",
              "    </tr>\n",
              "    <tr>\n",
              "      <th>31</th>\n",
              "      <td>win</td>\n",
              "    </tr>\n",
              "  </tbody>\n",
              "</table>\n",
              "<p>3200 rows × 1 columns</p>\n",
              "</div>\n",
              "      <button class=\"colab-df-convert\" onclick=\"convertToInteractive('df-b4416b8b-ccf6-44b2-93ae-251016133c59')\"\n",
              "              title=\"Convert this dataframe to an interactive table.\"\n",
              "              style=\"display:none;\">\n",
              "        \n",
              "  <svg xmlns=\"http://www.w3.org/2000/svg\" height=\"24px\"viewBox=\"0 0 24 24\"\n",
              "       width=\"24px\">\n",
              "    <path d=\"M0 0h24v24H0V0z\" fill=\"none\"/>\n",
              "    <path d=\"M18.56 5.44l.94 2.06.94-2.06 2.06-.94-2.06-.94-.94-2.06-.94 2.06-2.06.94zm-11 1L8.5 8.5l.94-2.06 2.06-.94-2.06-.94L8.5 2.5l-.94 2.06-2.06.94zm10 10l.94 2.06.94-2.06 2.06-.94-2.06-.94-.94-2.06-.94 2.06-2.06.94z\"/><path d=\"M17.41 7.96l-1.37-1.37c-.4-.4-.92-.59-1.43-.59-.52 0-1.04.2-1.43.59L10.3 9.45l-7.72 7.72c-.78.78-.78 2.05 0 2.83L4 21.41c.39.39.9.59 1.41.59.51 0 1.02-.2 1.41-.59l7.78-7.78 2.81-2.81c.8-.78.8-2.07 0-2.86zM5.41 20L4 18.59l7.72-7.72 1.47 1.35L5.41 20z\"/>\n",
              "  </svg>\n",
              "      </button>\n",
              "      \n",
              "  <style>\n",
              "    .colab-df-container {\n",
              "      display:flex;\n",
              "      flex-wrap:wrap;\n",
              "      gap: 12px;\n",
              "    }\n",
              "\n",
              "    .colab-df-convert {\n",
              "      background-color: #E8F0FE;\n",
              "      border: none;\n",
              "      border-radius: 50%;\n",
              "      cursor: pointer;\n",
              "      display: none;\n",
              "      fill: #1967D2;\n",
              "      height: 32px;\n",
              "      padding: 0 0 0 0;\n",
              "      width: 32px;\n",
              "    }\n",
              "\n",
              "    .colab-df-convert:hover {\n",
              "      background-color: #E2EBFA;\n",
              "      box-shadow: 0px 1px 2px rgba(60, 64, 67, 0.3), 0px 1px 3px 1px rgba(60, 64, 67, 0.15);\n",
              "      fill: #174EA6;\n",
              "    }\n",
              "\n",
              "    [theme=dark] .colab-df-convert {\n",
              "      background-color: #3B4455;\n",
              "      fill: #D2E3FC;\n",
              "    }\n",
              "\n",
              "    [theme=dark] .colab-df-convert:hover {\n",
              "      background-color: #434B5C;\n",
              "      box-shadow: 0px 1px 3px 1px rgba(0, 0, 0, 0.15);\n",
              "      filter: drop-shadow(0px 1px 2px rgba(0, 0, 0, 0.3));\n",
              "      fill: #FFFFFF;\n",
              "    }\n",
              "  </style>\n",
              "\n",
              "      <script>\n",
              "        const buttonEl =\n",
              "          document.querySelector('#df-b4416b8b-ccf6-44b2-93ae-251016133c59 button.colab-df-convert');\n",
              "        buttonEl.style.display =\n",
              "          google.colab.kernel.accessAllowed ? 'block' : 'none';\n",
              "\n",
              "        async function convertToInteractive(key) {\n",
              "          const element = document.querySelector('#df-b4416b8b-ccf6-44b2-93ae-251016133c59');\n",
              "          const dataTable =\n",
              "            await google.colab.kernel.invokeFunction('convertToInteractive',\n",
              "                                                     [key], {});\n",
              "          if (!dataTable) return;\n",
              "\n",
              "          const docLinkHtml = 'Like what you see? Visit the ' +\n",
              "            '<a target=\"_blank\" href=https://colab.research.google.com/notebooks/data_table.ipynb>data table notebook</a>'\n",
              "            + ' to learn more about interactive tables.';\n",
              "          element.innerHTML = '';\n",
              "          dataTable['output_type'] = 'display_data';\n",
              "          await google.colab.output.renderOutput(dataTable, element);\n",
              "          const docLink = document.createElement('div');\n",
              "          docLink.innerHTML = docLinkHtml;\n",
              "          element.appendChild(docLink);\n",
              "        }\n",
              "      </script>\n",
              "    </div>\n",
              "  </div>\n",
              "  "
            ]
          },
          "metadata": {},
          "execution_count": 36
        }
      ]
    },
    {
      "cell_type": "code",
      "source": [
        "df_events.iloc[60]"
      ],
      "metadata": {
        "colab": {
          "base_uri": "https://localhost:8080/"
        },
        "id": "FYa4ZqiMCn1j",
        "outputId": "db2494a1-1d0e-40fd-b856-c79586547895"
      },
      "execution_count": null,
      "outputs": [
        {
          "output_type": "execute_result",
          "data": {
            "text/plain": [
              "condition    loss\n",
              "Name: 28, dtype: object"
            ]
          },
          "metadata": {},
          "execution_count": 38
        }
      ]
    },
    {
      "cell_type": "markdown",
      "source": [
        "## Convert Event conditions from str to int"
      ],
      "metadata": {
        "id": "XIxCMZ3UJrgQ"
      }
    },
    {
      "cell_type": "code",
      "source": [
        "from google.colab import drive\n",
        "drive.mount('/content/drive')"
      ],
      "metadata": {
        "colab": {
          "base_uri": "https://localhost:8080/"
        },
        "id": "Adp_0EUzJxWw",
        "outputId": "c7b52700-82a6-4a11-f037-96e1a5055332"
      },
      "execution_count": 3,
      "outputs": [
        {
          "output_type": "stream",
          "name": "stdout",
          "text": [
            "Mounted at /content/drive\n"
          ]
        }
      ]
    },
    {
      "cell_type": "code",
      "source": [
        "cd 'content/drive/My Drive/NMA-DL 2022/nmaproject'"
      ],
      "metadata": {
        "colab": {
          "base_uri": "https://localhost:8080/"
        },
        "id": "-5hxJy7EJ29g",
        "outputId": "6db30d1d-2591-4388-c108-f7a219a01ff6"
      },
      "execution_count": 14,
      "outputs": [
        {
          "output_type": "stream",
          "name": "stdout",
          "text": [
            "/content/drive/.shortcut-targets-by-id/1lr36-u30LBtfXLdR-6EEp0ha2-OTHhlG/nmaproject\n"
          ]
        }
      ]
    },
    {
      "cell_type": "code",
      "source": [
        "ls"
      ],
      "metadata": {
        "colab": {
          "base_uri": "https://localhost:8080/"
        },
        "id": "xYl7kKwKJ8SJ",
        "outputId": "525c40f5-1f04-4dc5-9404-46c625ddae92"
      },
      "execution_count": 15,
      "outputs": [
        {
          "output_type": "stream",
          "name": "stdout",
          "text": [
            " 1.get_fmri_time_series.ipynb   fmri_rnn.ipynb\n",
            " \u001b[0m\u001b[01;34mBolT\u001b[0m/                          fmri_transformer.ipynb\n",
            " connectivity_hcp              'get_win_loss_reward_trials '\n",
            " data_events_all.csv            \u001b[01;34mInput-Cell-Attention\u001b[0m/\n",
            " data_fmri_all.csv             'IO of transformers.ipynb'\n",
            " fmri_baseline.ipynb            original_data\n"
          ]
        }
      ]
    },
    {
      "cell_type": "code",
      "source": [
        "df_conditions = pd.read_csv('data_events_all.csv',index_col=0)"
      ],
      "metadata": {
        "id": "VBmEltJTCwUI"
      },
      "execution_count": 26,
      "outputs": []
    },
    {
      "cell_type": "code",
      "source": [
        "print(df_conditions)"
      ],
      "metadata": {
        "colab": {
          "base_uri": "https://localhost:8080/"
        },
        "id": "gxrVS8XRKStK",
        "outputId": "834d283c-b014-4831-9a0a-fbaad7daa503"
      },
      "execution_count": 27,
      "outputs": [
        {
          "output_type": "stream",
          "name": "stdout",
          "text": [
            "   condition\n",
            "0       loss\n",
            "1       loss\n",
            "2        win\n",
            "3       loss\n",
            "4        win\n",
            "..       ...\n",
            "27       win\n",
            "28      loss\n",
            "29       win\n",
            "30       win\n",
            "31       win\n",
            "\n",
            "[3200 rows x 1 columns]\n"
          ]
        }
      ]
    },
    {
      "cell_type": "code",
      "source": [
        "from sklearn.preprocessing import LabelEncoder\n"
      ],
      "metadata": {
        "id": "XKpXj1uaKUvM"
      },
      "execution_count": 28,
      "outputs": []
    },
    {
      "cell_type": "code",
      "source": [
        "cond_array = np.ravel(df_conditions.values)"
      ],
      "metadata": {
        "id": "FDyOtmcuLLh1"
      },
      "execution_count": 34,
      "outputs": []
    },
    {
      "cell_type": "code",
      "source": [
        "label_encoder = LabelEncoder()\n",
        "integer_encoded = label_encoder.fit_transform(cond_array)"
      ],
      "metadata": {
        "id": "MPgW53vnLBS8"
      },
      "execution_count": 35,
      "outputs": []
    },
    {
      "cell_type": "code",
      "source": [
        "print(integer_encoded)"
      ],
      "metadata": {
        "colab": {
          "base_uri": "https://localhost:8080/"
        },
        "id": "MCwPz0P5LH0w",
        "outputId": "46f9febb-b7b0-4735-f44d-663c8029571c"
      },
      "execution_count": 36,
      "outputs": [
        {
          "output_type": "stream",
          "name": "stdout",
          "text": [
            "[0 0 2 ... 2 2 2]\n"
          ]
        }
      ]
    },
    {
      "cell_type": "code",
      "source": [
        "encoded = label_encoder.transform(['loss','win','neut','win'])\n",
        "print(encoded)"
      ],
      "metadata": {
        "colab": {
          "base_uri": "https://localhost:8080/"
        },
        "id": "PIditIfJLejO",
        "outputId": "47ce86e6-42d8-4933-f57c-93574deeee6a"
      },
      "execution_count": 41,
      "outputs": [
        {
          "output_type": "stream",
          "name": "stdout",
          "text": [
            "[0 2 1 2]\n"
          ]
        }
      ]
    },
    {
      "cell_type": "code",
      "source": [
        "df_conditions['int_label']=integer_encoded"
      ],
      "metadata": {
        "id": "br8BWiwjLw3w"
      },
      "execution_count": 42,
      "outputs": []
    },
    {
      "cell_type": "code",
      "source": [
        "df_conditions"
      ],
      "metadata": {
        "colab": {
          "base_uri": "https://localhost:8080/",
          "height": 424
        },
        "id": "M1NOFRoCMls2",
        "outputId": "3030afab-48ee-4825-a33e-e9ec37eb7b02"
      },
      "execution_count": 43,
      "outputs": [
        {
          "output_type": "execute_result",
          "data": {
            "text/plain": [
              "   condition  int_label\n",
              "0       loss          0\n",
              "1       loss          0\n",
              "2        win          2\n",
              "3       loss          0\n",
              "4        win          2\n",
              "..       ...        ...\n",
              "27       win          2\n",
              "28      loss          0\n",
              "29       win          2\n",
              "30       win          2\n",
              "31       win          2\n",
              "\n",
              "[3200 rows x 2 columns]"
            ],
            "text/html": [
              "\n",
              "  <div id=\"df-ad982d83-aabd-4b07-a763-199b66f3a143\">\n",
              "    <div class=\"colab-df-container\">\n",
              "      <div>\n",
              "<style scoped>\n",
              "    .dataframe tbody tr th:only-of-type {\n",
              "        vertical-align: middle;\n",
              "    }\n",
              "\n",
              "    .dataframe tbody tr th {\n",
              "        vertical-align: top;\n",
              "    }\n",
              "\n",
              "    .dataframe thead th {\n",
              "        text-align: right;\n",
              "    }\n",
              "</style>\n",
              "<table border=\"1\" class=\"dataframe\">\n",
              "  <thead>\n",
              "    <tr style=\"text-align: right;\">\n",
              "      <th></th>\n",
              "      <th>condition</th>\n",
              "      <th>int_label</th>\n",
              "    </tr>\n",
              "  </thead>\n",
              "  <tbody>\n",
              "    <tr>\n",
              "      <th>0</th>\n",
              "      <td>loss</td>\n",
              "      <td>0</td>\n",
              "    </tr>\n",
              "    <tr>\n",
              "      <th>1</th>\n",
              "      <td>loss</td>\n",
              "      <td>0</td>\n",
              "    </tr>\n",
              "    <tr>\n",
              "      <th>2</th>\n",
              "      <td>win</td>\n",
              "      <td>2</td>\n",
              "    </tr>\n",
              "    <tr>\n",
              "      <th>3</th>\n",
              "      <td>loss</td>\n",
              "      <td>0</td>\n",
              "    </tr>\n",
              "    <tr>\n",
              "      <th>4</th>\n",
              "      <td>win</td>\n",
              "      <td>2</td>\n",
              "    </tr>\n",
              "    <tr>\n",
              "      <th>...</th>\n",
              "      <td>...</td>\n",
              "      <td>...</td>\n",
              "    </tr>\n",
              "    <tr>\n",
              "      <th>27</th>\n",
              "      <td>win</td>\n",
              "      <td>2</td>\n",
              "    </tr>\n",
              "    <tr>\n",
              "      <th>28</th>\n",
              "      <td>loss</td>\n",
              "      <td>0</td>\n",
              "    </tr>\n",
              "    <tr>\n",
              "      <th>29</th>\n",
              "      <td>win</td>\n",
              "      <td>2</td>\n",
              "    </tr>\n",
              "    <tr>\n",
              "      <th>30</th>\n",
              "      <td>win</td>\n",
              "      <td>2</td>\n",
              "    </tr>\n",
              "    <tr>\n",
              "      <th>31</th>\n",
              "      <td>win</td>\n",
              "      <td>2</td>\n",
              "    </tr>\n",
              "  </tbody>\n",
              "</table>\n",
              "<p>3200 rows × 2 columns</p>\n",
              "</div>\n",
              "      <button class=\"colab-df-convert\" onclick=\"convertToInteractive('df-ad982d83-aabd-4b07-a763-199b66f3a143')\"\n",
              "              title=\"Convert this dataframe to an interactive table.\"\n",
              "              style=\"display:none;\">\n",
              "        \n",
              "  <svg xmlns=\"http://www.w3.org/2000/svg\" height=\"24px\"viewBox=\"0 0 24 24\"\n",
              "       width=\"24px\">\n",
              "    <path d=\"M0 0h24v24H0V0z\" fill=\"none\"/>\n",
              "    <path d=\"M18.56 5.44l.94 2.06.94-2.06 2.06-.94-2.06-.94-.94-2.06-.94 2.06-2.06.94zm-11 1L8.5 8.5l.94-2.06 2.06-.94-2.06-.94L8.5 2.5l-.94 2.06-2.06.94zm10 10l.94 2.06.94-2.06 2.06-.94-2.06-.94-.94-2.06-.94 2.06-2.06.94z\"/><path d=\"M17.41 7.96l-1.37-1.37c-.4-.4-.92-.59-1.43-.59-.52 0-1.04.2-1.43.59L10.3 9.45l-7.72 7.72c-.78.78-.78 2.05 0 2.83L4 21.41c.39.39.9.59 1.41.59.51 0 1.02-.2 1.41-.59l7.78-7.78 2.81-2.81c.8-.78.8-2.07 0-2.86zM5.41 20L4 18.59l7.72-7.72 1.47 1.35L5.41 20z\"/>\n",
              "  </svg>\n",
              "      </button>\n",
              "      \n",
              "  <style>\n",
              "    .colab-df-container {\n",
              "      display:flex;\n",
              "      flex-wrap:wrap;\n",
              "      gap: 12px;\n",
              "    }\n",
              "\n",
              "    .colab-df-convert {\n",
              "      background-color: #E8F0FE;\n",
              "      border: none;\n",
              "      border-radius: 50%;\n",
              "      cursor: pointer;\n",
              "      display: none;\n",
              "      fill: #1967D2;\n",
              "      height: 32px;\n",
              "      padding: 0 0 0 0;\n",
              "      width: 32px;\n",
              "    }\n",
              "\n",
              "    .colab-df-convert:hover {\n",
              "      background-color: #E2EBFA;\n",
              "      box-shadow: 0px 1px 2px rgba(60, 64, 67, 0.3), 0px 1px 3px 1px rgba(60, 64, 67, 0.15);\n",
              "      fill: #174EA6;\n",
              "    }\n",
              "\n",
              "    [theme=dark] .colab-df-convert {\n",
              "      background-color: #3B4455;\n",
              "      fill: #D2E3FC;\n",
              "    }\n",
              "\n",
              "    [theme=dark] .colab-df-convert:hover {\n",
              "      background-color: #434B5C;\n",
              "      box-shadow: 0px 1px 3px 1px rgba(0, 0, 0, 0.15);\n",
              "      filter: drop-shadow(0px 1px 2px rgba(0, 0, 0, 0.3));\n",
              "      fill: #FFFFFF;\n",
              "    }\n",
              "  </style>\n",
              "\n",
              "      <script>\n",
              "        const buttonEl =\n",
              "          document.querySelector('#df-ad982d83-aabd-4b07-a763-199b66f3a143 button.colab-df-convert');\n",
              "        buttonEl.style.display =\n",
              "          google.colab.kernel.accessAllowed ? 'block' : 'none';\n",
              "\n",
              "        async function convertToInteractive(key) {\n",
              "          const element = document.querySelector('#df-ad982d83-aabd-4b07-a763-199b66f3a143');\n",
              "          const dataTable =\n",
              "            await google.colab.kernel.invokeFunction('convertToInteractive',\n",
              "                                                     [key], {});\n",
              "          if (!dataTable) return;\n",
              "\n",
              "          const docLinkHtml = 'Like what you see? Visit the ' +\n",
              "            '<a target=\"_blank\" href=https://colab.research.google.com/notebooks/data_table.ipynb>data table notebook</a>'\n",
              "            + ' to learn more about interactive tables.';\n",
              "          element.innerHTML = '';\n",
              "          dataTable['output_type'] = 'display_data';\n",
              "          await google.colab.output.renderOutput(dataTable, element);\n",
              "          const docLink = document.createElement('div');\n",
              "          docLink.innerHTML = docLinkHtml;\n",
              "          element.appendChild(docLink);\n",
              "        }\n",
              "      </script>\n",
              "    </div>\n",
              "  </div>\n",
              "  "
            ]
          },
          "metadata": {},
          "execution_count": 43
        }
      ]
    },
    {
      "cell_type": "code",
      "source": [
        "df_conditions.to_csv('data_events_int.csv')"
      ],
      "metadata": {
        "id": "XBUqqxB0Mm4E"
      },
      "execution_count": 45,
      "outputs": []
    },
    {
      "cell_type": "code",
      "source": [
        "df_conditions2 = pd.read_csv('data_events_int.csv',index_col=0)"
      ],
      "metadata": {
        "id": "5X2CQwnnMxnb"
      },
      "execution_count": 49,
      "outputs": []
    },
    {
      "cell_type": "code",
      "source": [
        "df_conditions2"
      ],
      "metadata": {
        "colab": {
          "base_uri": "https://localhost:8080/",
          "height": 424
        },
        "id": "TwKdT_QJM7Bn",
        "outputId": "2dd56a17-8c9a-4c8d-e112-0c1c8355aa75"
      },
      "execution_count": 50,
      "outputs": [
        {
          "output_type": "execute_result",
          "data": {
            "text/plain": [
              "   condition  int_label\n",
              "0       loss          0\n",
              "1       loss          0\n",
              "2        win          2\n",
              "3       loss          0\n",
              "4        win          2\n",
              "..       ...        ...\n",
              "27       win          2\n",
              "28      loss          0\n",
              "29       win          2\n",
              "30       win          2\n",
              "31       win          2\n",
              "\n",
              "[3200 rows x 2 columns]"
            ],
            "text/html": [
              "\n",
              "  <div id=\"df-df48a863-6b58-4664-aa61-b83bb281b3b1\">\n",
              "    <div class=\"colab-df-container\">\n",
              "      <div>\n",
              "<style scoped>\n",
              "    .dataframe tbody tr th:only-of-type {\n",
              "        vertical-align: middle;\n",
              "    }\n",
              "\n",
              "    .dataframe tbody tr th {\n",
              "        vertical-align: top;\n",
              "    }\n",
              "\n",
              "    .dataframe thead th {\n",
              "        text-align: right;\n",
              "    }\n",
              "</style>\n",
              "<table border=\"1\" class=\"dataframe\">\n",
              "  <thead>\n",
              "    <tr style=\"text-align: right;\">\n",
              "      <th></th>\n",
              "      <th>condition</th>\n",
              "      <th>int_label</th>\n",
              "    </tr>\n",
              "  </thead>\n",
              "  <tbody>\n",
              "    <tr>\n",
              "      <th>0</th>\n",
              "      <td>loss</td>\n",
              "      <td>0</td>\n",
              "    </tr>\n",
              "    <tr>\n",
              "      <th>1</th>\n",
              "      <td>loss</td>\n",
              "      <td>0</td>\n",
              "    </tr>\n",
              "    <tr>\n",
              "      <th>2</th>\n",
              "      <td>win</td>\n",
              "      <td>2</td>\n",
              "    </tr>\n",
              "    <tr>\n",
              "      <th>3</th>\n",
              "      <td>loss</td>\n",
              "      <td>0</td>\n",
              "    </tr>\n",
              "    <tr>\n",
              "      <th>4</th>\n",
              "      <td>win</td>\n",
              "      <td>2</td>\n",
              "    </tr>\n",
              "    <tr>\n",
              "      <th>...</th>\n",
              "      <td>...</td>\n",
              "      <td>...</td>\n",
              "    </tr>\n",
              "    <tr>\n",
              "      <th>27</th>\n",
              "      <td>win</td>\n",
              "      <td>2</td>\n",
              "    </tr>\n",
              "    <tr>\n",
              "      <th>28</th>\n",
              "      <td>loss</td>\n",
              "      <td>0</td>\n",
              "    </tr>\n",
              "    <tr>\n",
              "      <th>29</th>\n",
              "      <td>win</td>\n",
              "      <td>2</td>\n",
              "    </tr>\n",
              "    <tr>\n",
              "      <th>30</th>\n",
              "      <td>win</td>\n",
              "      <td>2</td>\n",
              "    </tr>\n",
              "    <tr>\n",
              "      <th>31</th>\n",
              "      <td>win</td>\n",
              "      <td>2</td>\n",
              "    </tr>\n",
              "  </tbody>\n",
              "</table>\n",
              "<p>3200 rows × 2 columns</p>\n",
              "</div>\n",
              "      <button class=\"colab-df-convert\" onclick=\"convertToInteractive('df-df48a863-6b58-4664-aa61-b83bb281b3b1')\"\n",
              "              title=\"Convert this dataframe to an interactive table.\"\n",
              "              style=\"display:none;\">\n",
              "        \n",
              "  <svg xmlns=\"http://www.w3.org/2000/svg\" height=\"24px\"viewBox=\"0 0 24 24\"\n",
              "       width=\"24px\">\n",
              "    <path d=\"M0 0h24v24H0V0z\" fill=\"none\"/>\n",
              "    <path d=\"M18.56 5.44l.94 2.06.94-2.06 2.06-.94-2.06-.94-.94-2.06-.94 2.06-2.06.94zm-11 1L8.5 8.5l.94-2.06 2.06-.94-2.06-.94L8.5 2.5l-.94 2.06-2.06.94zm10 10l.94 2.06.94-2.06 2.06-.94-2.06-.94-.94-2.06-.94 2.06-2.06.94z\"/><path d=\"M17.41 7.96l-1.37-1.37c-.4-.4-.92-.59-1.43-.59-.52 0-1.04.2-1.43.59L10.3 9.45l-7.72 7.72c-.78.78-.78 2.05 0 2.83L4 21.41c.39.39.9.59 1.41.59.51 0 1.02-.2 1.41-.59l7.78-7.78 2.81-2.81c.8-.78.8-2.07 0-2.86zM5.41 20L4 18.59l7.72-7.72 1.47 1.35L5.41 20z\"/>\n",
              "  </svg>\n",
              "      </button>\n",
              "      \n",
              "  <style>\n",
              "    .colab-df-container {\n",
              "      display:flex;\n",
              "      flex-wrap:wrap;\n",
              "      gap: 12px;\n",
              "    }\n",
              "\n",
              "    .colab-df-convert {\n",
              "      background-color: #E8F0FE;\n",
              "      border: none;\n",
              "      border-radius: 50%;\n",
              "      cursor: pointer;\n",
              "      display: none;\n",
              "      fill: #1967D2;\n",
              "      height: 32px;\n",
              "      padding: 0 0 0 0;\n",
              "      width: 32px;\n",
              "    }\n",
              "\n",
              "    .colab-df-convert:hover {\n",
              "      background-color: #E2EBFA;\n",
              "      box-shadow: 0px 1px 2px rgba(60, 64, 67, 0.3), 0px 1px 3px 1px rgba(60, 64, 67, 0.15);\n",
              "      fill: #174EA6;\n",
              "    }\n",
              "\n",
              "    [theme=dark] .colab-df-convert {\n",
              "      background-color: #3B4455;\n",
              "      fill: #D2E3FC;\n",
              "    }\n",
              "\n",
              "    [theme=dark] .colab-df-convert:hover {\n",
              "      background-color: #434B5C;\n",
              "      box-shadow: 0px 1px 3px 1px rgba(0, 0, 0, 0.15);\n",
              "      filter: drop-shadow(0px 1px 2px rgba(0, 0, 0, 0.3));\n",
              "      fill: #FFFFFF;\n",
              "    }\n",
              "  </style>\n",
              "\n",
              "      <script>\n",
              "        const buttonEl =\n",
              "          document.querySelector('#df-df48a863-6b58-4664-aa61-b83bb281b3b1 button.colab-df-convert');\n",
              "        buttonEl.style.display =\n",
              "          google.colab.kernel.accessAllowed ? 'block' : 'none';\n",
              "\n",
              "        async function convertToInteractive(key) {\n",
              "          const element = document.querySelector('#df-df48a863-6b58-4664-aa61-b83bb281b3b1');\n",
              "          const dataTable =\n",
              "            await google.colab.kernel.invokeFunction('convertToInteractive',\n",
              "                                                     [key], {});\n",
              "          if (!dataTable) return;\n",
              "\n",
              "          const docLinkHtml = 'Like what you see? Visit the ' +\n",
              "            '<a target=\"_blank\" href=https://colab.research.google.com/notebooks/data_table.ipynb>data table notebook</a>'\n",
              "            + ' to learn more about interactive tables.';\n",
              "          element.innerHTML = '';\n",
              "          dataTable['output_type'] = 'display_data';\n",
              "          await google.colab.output.renderOutput(dataTable, element);\n",
              "          const docLink = document.createElement('div');\n",
              "          docLink.innerHTML = docLinkHtml;\n",
              "          element.appendChild(docLink);\n",
              "        }\n",
              "      </script>\n",
              "    </div>\n",
              "  </div>\n",
              "  "
            ]
          },
          "metadata": {},
          "execution_count": 50
        }
      ]
    },
    {
      "cell_type": "code",
      "source": [
        "df_int = pd.read_csv('data_events_int.csv',usecols = ['int_label'])"
      ],
      "metadata": {
        "id": "XKPqCThdNJCB"
      },
      "execution_count": 53,
      "outputs": []
    },
    {
      "cell_type": "code",
      "source": [
        "df_int"
      ],
      "metadata": {
        "colab": {
          "base_uri": "https://localhost:8080/",
          "height": 424
        },
        "id": "rA1vCrKQNRlq",
        "outputId": "2bd425c2-db29-480d-f0ef-f20968a84d9d"
      },
      "execution_count": 54,
      "outputs": [
        {
          "output_type": "execute_result",
          "data": {
            "text/plain": [
              "      int_label\n",
              "0             0\n",
              "1             0\n",
              "2             2\n",
              "3             0\n",
              "4             2\n",
              "...         ...\n",
              "3195          2\n",
              "3196          0\n",
              "3197          2\n",
              "3198          2\n",
              "3199          2\n",
              "\n",
              "[3200 rows x 1 columns]"
            ],
            "text/html": [
              "\n",
              "  <div id=\"df-0fd327d9-bef0-44a3-9848-6ec9877ab026\">\n",
              "    <div class=\"colab-df-container\">\n",
              "      <div>\n",
              "<style scoped>\n",
              "    .dataframe tbody tr th:only-of-type {\n",
              "        vertical-align: middle;\n",
              "    }\n",
              "\n",
              "    .dataframe tbody tr th {\n",
              "        vertical-align: top;\n",
              "    }\n",
              "\n",
              "    .dataframe thead th {\n",
              "        text-align: right;\n",
              "    }\n",
              "</style>\n",
              "<table border=\"1\" class=\"dataframe\">\n",
              "  <thead>\n",
              "    <tr style=\"text-align: right;\">\n",
              "      <th></th>\n",
              "      <th>int_label</th>\n",
              "    </tr>\n",
              "  </thead>\n",
              "  <tbody>\n",
              "    <tr>\n",
              "      <th>0</th>\n",
              "      <td>0</td>\n",
              "    </tr>\n",
              "    <tr>\n",
              "      <th>1</th>\n",
              "      <td>0</td>\n",
              "    </tr>\n",
              "    <tr>\n",
              "      <th>2</th>\n",
              "      <td>2</td>\n",
              "    </tr>\n",
              "    <tr>\n",
              "      <th>3</th>\n",
              "      <td>0</td>\n",
              "    </tr>\n",
              "    <tr>\n",
              "      <th>4</th>\n",
              "      <td>2</td>\n",
              "    </tr>\n",
              "    <tr>\n",
              "      <th>...</th>\n",
              "      <td>...</td>\n",
              "    </tr>\n",
              "    <tr>\n",
              "      <th>3195</th>\n",
              "      <td>2</td>\n",
              "    </tr>\n",
              "    <tr>\n",
              "      <th>3196</th>\n",
              "      <td>0</td>\n",
              "    </tr>\n",
              "    <tr>\n",
              "      <th>3197</th>\n",
              "      <td>2</td>\n",
              "    </tr>\n",
              "    <tr>\n",
              "      <th>3198</th>\n",
              "      <td>2</td>\n",
              "    </tr>\n",
              "    <tr>\n",
              "      <th>3199</th>\n",
              "      <td>2</td>\n",
              "    </tr>\n",
              "  </tbody>\n",
              "</table>\n",
              "<p>3200 rows × 1 columns</p>\n",
              "</div>\n",
              "      <button class=\"colab-df-convert\" onclick=\"convertToInteractive('df-0fd327d9-bef0-44a3-9848-6ec9877ab026')\"\n",
              "              title=\"Convert this dataframe to an interactive table.\"\n",
              "              style=\"display:none;\">\n",
              "        \n",
              "  <svg xmlns=\"http://www.w3.org/2000/svg\" height=\"24px\"viewBox=\"0 0 24 24\"\n",
              "       width=\"24px\">\n",
              "    <path d=\"M0 0h24v24H0V0z\" fill=\"none\"/>\n",
              "    <path d=\"M18.56 5.44l.94 2.06.94-2.06 2.06-.94-2.06-.94-.94-2.06-.94 2.06-2.06.94zm-11 1L8.5 8.5l.94-2.06 2.06-.94-2.06-.94L8.5 2.5l-.94 2.06-2.06.94zm10 10l.94 2.06.94-2.06 2.06-.94-2.06-.94-.94-2.06-.94 2.06-2.06.94z\"/><path d=\"M17.41 7.96l-1.37-1.37c-.4-.4-.92-.59-1.43-.59-.52 0-1.04.2-1.43.59L10.3 9.45l-7.72 7.72c-.78.78-.78 2.05 0 2.83L4 21.41c.39.39.9.59 1.41.59.51 0 1.02-.2 1.41-.59l7.78-7.78 2.81-2.81c.8-.78.8-2.07 0-2.86zM5.41 20L4 18.59l7.72-7.72 1.47 1.35L5.41 20z\"/>\n",
              "  </svg>\n",
              "      </button>\n",
              "      \n",
              "  <style>\n",
              "    .colab-df-container {\n",
              "      display:flex;\n",
              "      flex-wrap:wrap;\n",
              "      gap: 12px;\n",
              "    }\n",
              "\n",
              "    .colab-df-convert {\n",
              "      background-color: #E8F0FE;\n",
              "      border: none;\n",
              "      border-radius: 50%;\n",
              "      cursor: pointer;\n",
              "      display: none;\n",
              "      fill: #1967D2;\n",
              "      height: 32px;\n",
              "      padding: 0 0 0 0;\n",
              "      width: 32px;\n",
              "    }\n",
              "\n",
              "    .colab-df-convert:hover {\n",
              "      background-color: #E2EBFA;\n",
              "      box-shadow: 0px 1px 2px rgba(60, 64, 67, 0.3), 0px 1px 3px 1px rgba(60, 64, 67, 0.15);\n",
              "      fill: #174EA6;\n",
              "    }\n",
              "\n",
              "    [theme=dark] .colab-df-convert {\n",
              "      background-color: #3B4455;\n",
              "      fill: #D2E3FC;\n",
              "    }\n",
              "\n",
              "    [theme=dark] .colab-df-convert:hover {\n",
              "      background-color: #434B5C;\n",
              "      box-shadow: 0px 1px 3px 1px rgba(0, 0, 0, 0.15);\n",
              "      filter: drop-shadow(0px 1px 2px rgba(0, 0, 0, 0.3));\n",
              "      fill: #FFFFFF;\n",
              "    }\n",
              "  </style>\n",
              "\n",
              "      <script>\n",
              "        const buttonEl =\n",
              "          document.querySelector('#df-0fd327d9-bef0-44a3-9848-6ec9877ab026 button.colab-df-convert');\n",
              "        buttonEl.style.display =\n",
              "          google.colab.kernel.accessAllowed ? 'block' : 'none';\n",
              "\n",
              "        async function convertToInteractive(key) {\n",
              "          const element = document.querySelector('#df-0fd327d9-bef0-44a3-9848-6ec9877ab026');\n",
              "          const dataTable =\n",
              "            await google.colab.kernel.invokeFunction('convertToInteractive',\n",
              "                                                     [key], {});\n",
              "          if (!dataTable) return;\n",
              "\n",
              "          const docLinkHtml = 'Like what you see? Visit the ' +\n",
              "            '<a target=\"_blank\" href=https://colab.research.google.com/notebooks/data_table.ipynb>data table notebook</a>'\n",
              "            + ' to learn more about interactive tables.';\n",
              "          element.innerHTML = '';\n",
              "          dataTable['output_type'] = 'display_data';\n",
              "          await google.colab.output.renderOutput(dataTable, element);\n",
              "          const docLink = document.createElement('div');\n",
              "          docLink.innerHTML = docLinkHtml;\n",
              "          element.appendChild(docLink);\n",
              "        }\n",
              "      </script>\n",
              "    </div>\n",
              "  </div>\n",
              "  "
            ]
          },
          "metadata": {},
          "execution_count": 54
        }
      ]
    },
    {
      "cell_type": "code",
      "source": [
        ""
      ],
      "metadata": {
        "id": "gcyVWkxRNSgb"
      },
      "execution_count": null,
      "outputs": []
    }
  ]
}